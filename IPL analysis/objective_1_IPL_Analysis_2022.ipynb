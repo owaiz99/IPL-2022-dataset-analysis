{
 "cells": [
  {
   "cell_type": "code",
   "execution_count": 1,
   "id": "f3bfcb71",
   "metadata": {
    "execution": {
     "iopub.execute_input": "2022-06-28T18:19:09.683546Z",
     "iopub.status.busy": "2022-06-28T18:19:09.683088Z",
     "iopub.status.idle": "2022-06-28T18:19:10.785067Z",
     "shell.execute_reply": "2022-06-28T18:19:10.783919Z"
    },
    "id": "f3bfcb71",
    "papermill": {
     "duration": 1.114158,
     "end_time": "2022-06-28T18:19:10.787859",
     "exception": false,
     "start_time": "2022-06-28T18:19:09.673701",
     "status": "completed"
    },
    "tags": []
   },
   "outputs": [],
   "source": [
    "import numpy as np\n",
    "import pandas as pd\n",
    "import matplotlib.pyplot as plt\n",
    "import seaborn as sns"
   ]
  },
  {
   "cell_type": "code",
   "execution_count": 2,
   "id": "413fa721",
   "metadata": {
    "execution": {
     "iopub.execute_input": "2022-06-28T18:19:10.803635Z",
     "iopub.status.busy": "2022-06-28T18:19:10.802623Z",
     "iopub.status.idle": "2022-06-28T18:19:10.825607Z",
     "shell.execute_reply": "2022-06-28T18:19:10.824445Z"
    },
    "id": "413fa721",
    "papermill": {
     "duration": 0.033437,
     "end_time": "2022-06-28T18:19:10.828208",
     "exception": false,
     "start_time": "2022-06-28T18:19:10.794771",
     "status": "completed"
    },
    "tags": []
   },
   "outputs": [],
   "source": [
    "ipl=pd.read_csv('/content/IPL_Matches_2022.csv')"
   ]
  },
  {
   "cell_type": "code",
   "execution_count": 3,
   "id": "7e951641",
   "metadata": {
    "colab": {
     "base_uri": "https://localhost:8080/",
     "height": 565
    },
    "execution": {
     "iopub.execute_input": "2022-06-28T18:19:10.843847Z",
     "iopub.status.busy": "2022-06-28T18:19:10.843134Z",
     "iopub.status.idle": "2022-06-28T18:19:10.871857Z",
     "shell.execute_reply": "2022-06-28T18:19:10.870716Z"
    },
    "id": "7e951641",
    "outputId": "c59f2f20-1e77-42cf-f45c-f1e334a74c1a",
    "papermill": {
     "duration": 0.039149,
     "end_time": "2022-06-28T18:19:10.874054",
     "exception": false,
     "start_time": "2022-06-28T18:19:10.834905",
     "status": "completed"
    },
    "tags": []
   },
   "outputs": [
    {
     "data": {
      "text/html": [
       "\n",
       "  <div id=\"df-614a6d39-fab8-4764-99cd-10fba4e3afd0\">\n",
       "    <div class=\"colab-df-container\">\n",
       "      <div>\n",
       "<style scoped>\n",
       "    .dataframe tbody tr th:only-of-type {\n",
       "        vertical-align: middle;\n",
       "    }\n",
       "\n",
       "    .dataframe tbody tr th {\n",
       "        vertical-align: top;\n",
       "    }\n",
       "\n",
       "    .dataframe thead th {\n",
       "        text-align: right;\n",
       "    }\n",
       "</style>\n",
       "<table border=\"1\" class=\"dataframe\">\n",
       "  <thead>\n",
       "    <tr style=\"text-align: right;\">\n",
       "      <th></th>\n",
       "      <th>ID</th>\n",
       "      <th>City</th>\n",
       "      <th>Date</th>\n",
       "      <th>Season</th>\n",
       "      <th>MatchNumber</th>\n",
       "      <th>Team1</th>\n",
       "      <th>Team2</th>\n",
       "      <th>Venue</th>\n",
       "      <th>TossWinner</th>\n",
       "      <th>TossDecision</th>\n",
       "      <th>SuperOver</th>\n",
       "      <th>WinningTeam</th>\n",
       "      <th>WonBy</th>\n",
       "      <th>Margin</th>\n",
       "      <th>method</th>\n",
       "      <th>Player_of_Match</th>\n",
       "      <th>Team1Players</th>\n",
       "      <th>Team2Players</th>\n",
       "      <th>Umpire1</th>\n",
       "      <th>Umpire2</th>\n",
       "    </tr>\n",
       "  </thead>\n",
       "  <tbody>\n",
       "    <tr>\n",
       "      <th>0</th>\n",
       "      <td>1312200</td>\n",
       "      <td>Ahmedabad</td>\n",
       "      <td>2022-05-29</td>\n",
       "      <td>2022</td>\n",
       "      <td>Final</td>\n",
       "      <td>Rajasthan Royals</td>\n",
       "      <td>Gujarat Titans</td>\n",
       "      <td>Narendra Modi Stadium, Ahmedabad</td>\n",
       "      <td>Rajasthan Royals</td>\n",
       "      <td>bat</td>\n",
       "      <td>N</td>\n",
       "      <td>Gujarat Titans</td>\n",
       "      <td>Wickets</td>\n",
       "      <td>7</td>\n",
       "      <td>NaN</td>\n",
       "      <td>HH Pandya</td>\n",
       "      <td>['YBK Jaiswal', 'JC Buttler', 'SV Samson', 'D ...</td>\n",
       "      <td>['WP Saha', 'Shubman Gill', 'MS Wade', 'HH Pan...</td>\n",
       "      <td>CB Gaffaney</td>\n",
       "      <td>Nitin Menon</td>\n",
       "    </tr>\n",
       "    <tr>\n",
       "      <th>1</th>\n",
       "      <td>1312199</td>\n",
       "      <td>Ahmedabad</td>\n",
       "      <td>2022-05-27</td>\n",
       "      <td>2022</td>\n",
       "      <td>Qualifier 2</td>\n",
       "      <td>Royal Challengers Bangalore</td>\n",
       "      <td>Rajasthan Royals</td>\n",
       "      <td>Narendra Modi Stadium, Ahmedabad</td>\n",
       "      <td>Rajasthan Royals</td>\n",
       "      <td>field</td>\n",
       "      <td>N</td>\n",
       "      <td>Rajasthan Royals</td>\n",
       "      <td>Wickets</td>\n",
       "      <td>7</td>\n",
       "      <td>NaN</td>\n",
       "      <td>JC Buttler</td>\n",
       "      <td>['V Kohli', 'F du Plessis', 'RM Patidar', 'GJ ...</td>\n",
       "      <td>['YBK Jaiswal', 'JC Buttler', 'SV Samson', 'D ...</td>\n",
       "      <td>CB Gaffaney</td>\n",
       "      <td>Nitin Menon</td>\n",
       "    </tr>\n",
       "    <tr>\n",
       "      <th>2</th>\n",
       "      <td>1312198</td>\n",
       "      <td>Kolkata</td>\n",
       "      <td>2022-05-25</td>\n",
       "      <td>2022</td>\n",
       "      <td>Eliminator</td>\n",
       "      <td>Royal Challengers Bangalore</td>\n",
       "      <td>Lucknow Super Giants</td>\n",
       "      <td>Eden Gardens, Kolkata</td>\n",
       "      <td>Lucknow Super Giants</td>\n",
       "      <td>field</td>\n",
       "      <td>N</td>\n",
       "      <td>Royal Challengers Bangalore</td>\n",
       "      <td>Runs</td>\n",
       "      <td>14</td>\n",
       "      <td>NaN</td>\n",
       "      <td>RM Patidar</td>\n",
       "      <td>['V Kohli', 'F du Plessis', 'RM Patidar', 'GJ ...</td>\n",
       "      <td>['Q de Kock', 'KL Rahul', 'M Vohra', 'DJ Hooda...</td>\n",
       "      <td>J Madanagopal</td>\n",
       "      <td>MA Gough</td>\n",
       "    </tr>\n",
       "    <tr>\n",
       "      <th>3</th>\n",
       "      <td>1312197</td>\n",
       "      <td>Kolkata</td>\n",
       "      <td>2022-05-24</td>\n",
       "      <td>2022</td>\n",
       "      <td>Qualifier 1</td>\n",
       "      <td>Rajasthan Royals</td>\n",
       "      <td>Gujarat Titans</td>\n",
       "      <td>Eden Gardens, Kolkata</td>\n",
       "      <td>Gujarat Titans</td>\n",
       "      <td>field</td>\n",
       "      <td>N</td>\n",
       "      <td>Gujarat Titans</td>\n",
       "      <td>Wickets</td>\n",
       "      <td>7</td>\n",
       "      <td>NaN</td>\n",
       "      <td>DA Miller</td>\n",
       "      <td>['YBK Jaiswal', 'JC Buttler', 'SV Samson', 'D ...</td>\n",
       "      <td>['WP Saha', 'Shubman Gill', 'MS Wade', 'HH Pan...</td>\n",
       "      <td>BNJ Oxenford</td>\n",
       "      <td>VK Sharma</td>\n",
       "    </tr>\n",
       "    <tr>\n",
       "      <th>4</th>\n",
       "      <td>1304116</td>\n",
       "      <td>Mumbai</td>\n",
       "      <td>2022-05-22</td>\n",
       "      <td>2022</td>\n",
       "      <td>70</td>\n",
       "      <td>Sunrisers Hyderabad</td>\n",
       "      <td>Punjab Kings</td>\n",
       "      <td>Wankhede Stadium, Mumbai</td>\n",
       "      <td>Sunrisers Hyderabad</td>\n",
       "      <td>bat</td>\n",
       "      <td>N</td>\n",
       "      <td>Punjab Kings</td>\n",
       "      <td>Wickets</td>\n",
       "      <td>5</td>\n",
       "      <td>NaN</td>\n",
       "      <td>Harpreet Brar</td>\n",
       "      <td>['PK Garg', 'Abhishek Sharma', 'RA Tripathi', ...</td>\n",
       "      <td>['JM Bairstow', 'S Dhawan', 'M Shahrukh Khan',...</td>\n",
       "      <td>AK Chaudhary</td>\n",
       "      <td>NA Patwardhan</td>\n",
       "    </tr>\n",
       "  </tbody>\n",
       "</table>\n",
       "</div>\n",
       "      <button class=\"colab-df-convert\" onclick=\"convertToInteractive('df-614a6d39-fab8-4764-99cd-10fba4e3afd0')\"\n",
       "              title=\"Convert this dataframe to an interactive table.\"\n",
       "              style=\"display:none;\">\n",
       "        \n",
       "  <svg xmlns=\"http://www.w3.org/2000/svg\" height=\"24px\"viewBox=\"0 0 24 24\"\n",
       "       width=\"24px\">\n",
       "    <path d=\"M0 0h24v24H0V0z\" fill=\"none\"/>\n",
       "    <path d=\"M18.56 5.44l.94 2.06.94-2.06 2.06-.94-2.06-.94-.94-2.06-.94 2.06-2.06.94zm-11 1L8.5 8.5l.94-2.06 2.06-.94-2.06-.94L8.5 2.5l-.94 2.06-2.06.94zm10 10l.94 2.06.94-2.06 2.06-.94-2.06-.94-.94-2.06-.94 2.06-2.06.94z\"/><path d=\"M17.41 7.96l-1.37-1.37c-.4-.4-.92-.59-1.43-.59-.52 0-1.04.2-1.43.59L10.3 9.45l-7.72 7.72c-.78.78-.78 2.05 0 2.83L4 21.41c.39.39.9.59 1.41.59.51 0 1.02-.2 1.41-.59l7.78-7.78 2.81-2.81c.8-.78.8-2.07 0-2.86zM5.41 20L4 18.59l7.72-7.72 1.47 1.35L5.41 20z\"/>\n",
       "  </svg>\n",
       "      </button>\n",
       "      \n",
       "  <style>\n",
       "    .colab-df-container {\n",
       "      display:flex;\n",
       "      flex-wrap:wrap;\n",
       "      gap: 12px;\n",
       "    }\n",
       "\n",
       "    .colab-df-convert {\n",
       "      background-color: #E8F0FE;\n",
       "      border: none;\n",
       "      border-radius: 50%;\n",
       "      cursor: pointer;\n",
       "      display: none;\n",
       "      fill: #1967D2;\n",
       "      height: 32px;\n",
       "      padding: 0 0 0 0;\n",
       "      width: 32px;\n",
       "    }\n",
       "\n",
       "    .colab-df-convert:hover {\n",
       "      background-color: #E2EBFA;\n",
       "      box-shadow: 0px 1px 2px rgba(60, 64, 67, 0.3), 0px 1px 3px 1px rgba(60, 64, 67, 0.15);\n",
       "      fill: #174EA6;\n",
       "    }\n",
       "\n",
       "    [theme=dark] .colab-df-convert {\n",
       "      background-color: #3B4455;\n",
       "      fill: #D2E3FC;\n",
       "    }\n",
       "\n",
       "    [theme=dark] .colab-df-convert:hover {\n",
       "      background-color: #434B5C;\n",
       "      box-shadow: 0px 1px 3px 1px rgba(0, 0, 0, 0.15);\n",
       "      filter: drop-shadow(0px 1px 2px rgba(0, 0, 0, 0.3));\n",
       "      fill: #FFFFFF;\n",
       "    }\n",
       "  </style>\n",
       "\n",
       "      <script>\n",
       "        const buttonEl =\n",
       "          document.querySelector('#df-614a6d39-fab8-4764-99cd-10fba4e3afd0 button.colab-df-convert');\n",
       "        buttonEl.style.display =\n",
       "          google.colab.kernel.accessAllowed ? 'block' : 'none';\n",
       "\n",
       "        async function convertToInteractive(key) {\n",
       "          const element = document.querySelector('#df-614a6d39-fab8-4764-99cd-10fba4e3afd0');\n",
       "          const dataTable =\n",
       "            await google.colab.kernel.invokeFunction('convertToInteractive',\n",
       "                                                     [key], {});\n",
       "          if (!dataTable) return;\n",
       "\n",
       "          const docLinkHtml = 'Like what you see? Visit the ' +\n",
       "            '<a target=\"_blank\" href=https://colab.research.google.com/notebooks/data_table.ipynb>data table notebook</a>'\n",
       "            + ' to learn more about interactive tables.';\n",
       "          element.innerHTML = '';\n",
       "          dataTable['output_type'] = 'display_data';\n",
       "          await google.colab.output.renderOutput(dataTable, element);\n",
       "          const docLink = document.createElement('div');\n",
       "          docLink.innerHTML = docLinkHtml;\n",
       "          element.appendChild(docLink);\n",
       "        }\n",
       "      </script>\n",
       "    </div>\n",
       "  </div>\n",
       "  "
      ],
      "text/plain": [
       "        ID       City        Date  Season  MatchNumber  \\\n",
       "0  1312200  Ahmedabad  2022-05-29    2022        Final   \n",
       "1  1312199  Ahmedabad  2022-05-27    2022  Qualifier 2   \n",
       "2  1312198    Kolkata  2022-05-25    2022   Eliminator   \n",
       "3  1312197    Kolkata  2022-05-24    2022  Qualifier 1   \n",
       "4  1304116     Mumbai  2022-05-22    2022           70   \n",
       "\n",
       "                         Team1                 Team2  \\\n",
       "0             Rajasthan Royals        Gujarat Titans   \n",
       "1  Royal Challengers Bangalore      Rajasthan Royals   \n",
       "2  Royal Challengers Bangalore  Lucknow Super Giants   \n",
       "3             Rajasthan Royals        Gujarat Titans   \n",
       "4          Sunrisers Hyderabad          Punjab Kings   \n",
       "\n",
       "                              Venue            TossWinner TossDecision  \\\n",
       "0  Narendra Modi Stadium, Ahmedabad      Rajasthan Royals          bat   \n",
       "1  Narendra Modi Stadium, Ahmedabad      Rajasthan Royals        field   \n",
       "2             Eden Gardens, Kolkata  Lucknow Super Giants        field   \n",
       "3             Eden Gardens, Kolkata        Gujarat Titans        field   \n",
       "4          Wankhede Stadium, Mumbai   Sunrisers Hyderabad          bat   \n",
       "\n",
       "  SuperOver                  WinningTeam    WonBy  Margin  method  \\\n",
       "0         N               Gujarat Titans  Wickets       7     NaN   \n",
       "1         N             Rajasthan Royals  Wickets       7     NaN   \n",
       "2         N  Royal Challengers Bangalore     Runs      14     NaN   \n",
       "3         N               Gujarat Titans  Wickets       7     NaN   \n",
       "4         N                 Punjab Kings  Wickets       5     NaN   \n",
       "\n",
       "  Player_of_Match                                       Team1Players  \\\n",
       "0       HH Pandya  ['YBK Jaiswal', 'JC Buttler', 'SV Samson', 'D ...   \n",
       "1      JC Buttler  ['V Kohli', 'F du Plessis', 'RM Patidar', 'GJ ...   \n",
       "2      RM Patidar  ['V Kohli', 'F du Plessis', 'RM Patidar', 'GJ ...   \n",
       "3       DA Miller  ['YBK Jaiswal', 'JC Buttler', 'SV Samson', 'D ...   \n",
       "4   Harpreet Brar  ['PK Garg', 'Abhishek Sharma', 'RA Tripathi', ...   \n",
       "\n",
       "                                        Team2Players        Umpire1  \\\n",
       "0  ['WP Saha', 'Shubman Gill', 'MS Wade', 'HH Pan...    CB Gaffaney   \n",
       "1  ['YBK Jaiswal', 'JC Buttler', 'SV Samson', 'D ...    CB Gaffaney   \n",
       "2  ['Q de Kock', 'KL Rahul', 'M Vohra', 'DJ Hooda...  J Madanagopal   \n",
       "3  ['WP Saha', 'Shubman Gill', 'MS Wade', 'HH Pan...   BNJ Oxenford   \n",
       "4  ['JM Bairstow', 'S Dhawan', 'M Shahrukh Khan',...   AK Chaudhary   \n",
       "\n",
       "         Umpire2  \n",
       "0    Nitin Menon  \n",
       "1    Nitin Menon  \n",
       "2       MA Gough  \n",
       "3      VK Sharma  \n",
       "4  NA Patwardhan  "
      ]
     },
     "execution_count": 3,
     "metadata": {},
     "output_type": "execute_result"
    }
   ],
   "source": [
    "ipl.head()"
   ]
  },
  {
   "cell_type": "code",
   "execution_count": 4,
   "id": "b33ac5ab",
   "metadata": {
    "colab": {
     "base_uri": "https://localhost:8080/"
    },
    "execution": {
     "iopub.execute_input": "2022-06-28T18:19:10.889823Z",
     "iopub.status.busy": "2022-06-28T18:19:10.889408Z",
     "iopub.status.idle": "2022-06-28T18:19:10.896018Z",
     "shell.execute_reply": "2022-06-28T18:19:10.894863Z"
    },
    "id": "b33ac5ab",
    "outputId": "3714513b-2c69-4ddd-ce57-ae659c60c9ac",
    "papermill": {
     "duration": 0.01711,
     "end_time": "2022-06-28T18:19:10.898221",
     "exception": false,
     "start_time": "2022-06-28T18:19:10.881111",
     "status": "completed"
    },
    "tags": []
   },
   "outputs": [
    {
     "data": {
      "text/plain": [
       "(74, 20)"
      ]
     },
     "execution_count": 4,
     "metadata": {},
     "output_type": "execute_result"
    }
   ],
   "source": [
    "ipl.shape"
   ]
  },
  {
   "cell_type": "code",
   "execution_count": 5,
   "id": "2ce875ce",
   "metadata": {
    "colab": {
     "base_uri": "https://localhost:8080/"
    },
    "execution": {
     "iopub.execute_input": "2022-06-28T18:19:10.914793Z",
     "iopub.status.busy": "2022-06-28T18:19:10.914432Z",
     "iopub.status.idle": "2022-06-28T18:19:10.928605Z",
     "shell.execute_reply": "2022-06-28T18:19:10.927538Z"
    },
    "id": "2ce875ce",
    "outputId": "bee5ef92-c72d-44e5-d7f5-1d2148782eaa",
    "papermill": {
     "duration": 0.025047,
     "end_time": "2022-06-28T18:19:10.930767",
     "exception": false,
     "start_time": "2022-06-28T18:19:10.905720",
     "status": "completed"
    },
    "tags": []
   },
   "outputs": [
    {
     "data": {
      "text/plain": [
       "Kuldeep Yadav    4\n",
       "JC Buttler       3\n",
       "HH Pandya        2\n",
       "KL Rahul         2\n",
       "YS Chahal        2\n",
       "KD Karthik       2\n",
       "Avesh Khan       2\n",
       "PWH de Silva     2\n",
       "Shubman Gill     2\n",
       "Umran Malik      2\n",
       "Name: Player_of_Match, dtype: int64"
      ]
     },
     "execution_count": 5,
     "metadata": {},
     "output_type": "execute_result"
    }
   ],
   "source": [
    "#Player of the match top 10\n",
    "ipl['Player_of_Match'].value_counts()[0:10]"
   ]
  },
  {
   "cell_type": "code",
   "execution_count": 6,
   "id": "4f96554a",
   "metadata": {
    "colab": {
     "base_uri": "https://localhost:8080/"
    },
    "execution": {
     "iopub.execute_input": "2022-06-28T18:19:10.947072Z",
     "iopub.status.busy": "2022-06-28T18:19:10.946692Z",
     "iopub.status.idle": "2022-06-28T18:19:10.954564Z",
     "shell.execute_reply": "2022-06-28T18:19:10.953358Z"
    },
    "id": "4f96554a",
    "outputId": "3f02470c-8e7b-4123-8243-82e3ced26c98",
    "papermill": {
     "duration": 0.018801,
     "end_time": "2022-06-28T18:19:10.956764",
     "exception": false,
     "start_time": "2022-06-28T18:19:10.937963",
     "status": "completed"
    },
    "tags": []
   },
   "outputs": [
    {
     "data": {
      "text/plain": [
       "['Kuldeep Yadav', 'JC Buttler', 'HH Pandya', 'KL Rahul', 'YS Chahal']"
      ]
     },
     "execution_count": 6,
     "metadata": {},
     "output_type": "execute_result"
    }
   ],
   "source": [
    "#top 5 player of the Match\n",
    "list(ipl['Player_of_Match'].value_counts()[0:5].keys())"
   ]
  },
  {
   "cell_type": "code",
   "execution_count": 7,
   "id": "32ba9a82",
   "metadata": {
    "colab": {
     "base_uri": "https://localhost:8080/",
     "height": 336
    },
    "execution": {
     "iopub.execute_input": "2022-06-28T18:19:10.973678Z",
     "iopub.status.busy": "2022-06-28T18:19:10.973260Z",
     "iopub.status.idle": "2022-06-28T18:19:11.138389Z",
     "shell.execute_reply": "2022-06-28T18:19:11.137516Z"
    },
    "id": "32ba9a82",
    "outputId": "8f50bd22-bb76-473b-e3d5-5afaf5976fcc",
    "papermill": {
     "duration": 0.176315,
     "end_time": "2022-06-28T18:19:11.141021",
     "exception": false,
     "start_time": "2022-06-28T18:19:10.964706",
     "status": "completed"
    },
    "tags": []
   },
   "outputs": [
    {
     "data": {
      "image/png": "[encoded data removed]",
      "text/plain": [
       "<Figure size 576x360 with 1 Axes>"
      ]
     },
     "metadata": {
      "needs_background": "light"
     },
     "output_type": "display_data"
    }
   ],
   "source": [
    "#player of match graph \n",
    "plt.figure(figsize=(8,5))\n",
    "plt.bar(list(ipl['Player_of_Match'].value_counts()[0:5].keys()),list(ipl['Player_of_Match'].value_counts()[0:5]),color='olive')\n",
    "plt.title('Player of Match')\n",
    "plt.show()"
   ]
  },
  {
   "cell_type": "code",
   "execution_count": 8,
   "id": "20ac5ca8",
   "metadata": {
    "colab": {
     "base_uri": "https://localhost:8080/"
    },
    "execution": {
     "iopub.execute_input": "2022-06-28T18:19:11.158041Z",
     "iopub.status.busy": "2022-06-28T18:19:11.157673Z",
     "iopub.status.idle": "2022-06-28T18:19:11.165602Z",
     "shell.execute_reply": "2022-06-28T18:19:11.164494Z"
    },
    "id": "20ac5ca8",
    "outputId": "c407425c-123b-4b42-ab65-3a61590b5458",
    "papermill": {
     "duration": 0.019152,
     "end_time": "2022-06-28T18:19:11.167756",
     "exception": false,
     "start_time": "2022-06-28T18:19:11.148604",
     "status": "completed"
    },
    "tags": []
   },
   "outputs": [
    {
     "data": {
      "text/plain": [
       "Gujarat Titans                 10\n",
       "Sunrisers Hyderabad            10\n",
       "Mumbai Indians                  9\n",
       "Kolkata Knight Riders           8\n",
       "Royal Challengers Bangalore     8\n",
       "Delhi Capitals                  8\n",
       "Lucknow Super Giants            7\n",
       "Chennai Super Kings             6\n",
       "Rajasthan Royals                4\n",
       "Punjab Kings                    4\n",
       "Name: TossWinner, dtype: int64"
      ]
     },
     "execution_count": 8,
     "metadata": {},
     "output_type": "execute_result"
    }
   ],
   "source": [
    "#Toss winner\n",
    "ipl['TossWinner'].value_counts()"
   ]
  },
  {
   "cell_type": "code",
   "execution_count": 9,
   "id": "a2194621",
   "metadata": {
    "execution": {
     "iopub.execute_input": "2022-06-28T18:19:11.185695Z",
     "iopub.status.busy": "2022-06-28T18:19:11.184885Z",
     "iopub.status.idle": "2022-06-28T18:19:11.193871Z",
     "shell.execute_reply": "2022-06-28T18:19:11.192886Z"
    },
    "id": "a2194621",
    "papermill": {
     "duration": 0.021011,
     "end_time": "2022-06-28T18:19:11.196281",
     "exception": false,
     "start_time": "2022-06-28T18:19:11.175270",
     "status": "completed"
    },
    "tags": []
   },
   "outputs": [],
   "source": [
    "#first batting and win this team \n",
    "batting_first=ipl[ipl['WonBy']!='Wickets']"
   ]
  },
  {
   "cell_type": "code",
   "execution_count": 10,
   "id": "4eed766e",
   "metadata": {
    "colab": {
     "base_uri": "https://localhost:8080/",
     "height": 565
    },
    "execution": {
     "iopub.execute_input": "2022-06-28T18:19:11.213725Z",
     "iopub.status.busy": "2022-06-28T18:19:11.212976Z",
     "iopub.status.idle": "2022-06-28T18:19:11.232621Z",
     "shell.execute_reply": "2022-06-28T18:19:11.231516Z"
    },
    "id": "4eed766e",
    "outputId": "33a7a51a-d076-4486-98cc-516083963e94",
    "papermill": {
     "duration": 0.031062,
     "end_time": "2022-06-28T18:19:11.234953",
     "exception": false,
     "start_time": "2022-06-28T18:19:11.203891",
     "status": "completed"
    },
    "tags": []
   },
   "outputs": [
    {
     "data": {
      "text/html": [
       "\n",
       "  <div id=\"df-3a3697d1-38f1-46ba-86c7-3263668402d2\">\n",
       "    <div class=\"colab-df-container\">\n",
       "      <div>\n",
       "<style scoped>\n",
       "    .dataframe tbody tr th:only-of-type {\n",
       "        vertical-align: middle;\n",
       "    }\n",
       "\n",
       "    .dataframe tbody tr th {\n",
       "        vertical-align: top;\n",
       "    }\n",
       "\n",
       "    .dataframe thead th {\n",
       "        text-align: right;\n",
       "    }\n",
       "</style>\n",
       "<table border=\"1\" class=\"dataframe\">\n",
       "  <thead>\n",
       "    <tr style=\"text-align: right;\">\n",
       "      <th></th>\n",
       "      <th>ID</th>\n",
       "      <th>City</th>\n",
       "      <th>Date</th>\n",
       "      <th>Season</th>\n",
       "      <th>MatchNumber</th>\n",
       "      <th>Team1</th>\n",
       "      <th>Team2</th>\n",
       "      <th>Venue</th>\n",
       "      <th>TossWinner</th>\n",
       "      <th>TossDecision</th>\n",
       "      <th>SuperOver</th>\n",
       "      <th>WinningTeam</th>\n",
       "      <th>WonBy</th>\n",
       "      <th>Margin</th>\n",
       "      <th>method</th>\n",
       "      <th>Player_of_Match</th>\n",
       "      <th>Team1Players</th>\n",
       "      <th>Team2Players</th>\n",
       "      <th>Umpire1</th>\n",
       "      <th>Umpire2</th>\n",
       "    </tr>\n",
       "  </thead>\n",
       "  <tbody>\n",
       "    <tr>\n",
       "      <th>2</th>\n",
       "      <td>1312198</td>\n",
       "      <td>Kolkata</td>\n",
       "      <td>2022-05-25</td>\n",
       "      <td>2022</td>\n",
       "      <td>Eliminator</td>\n",
       "      <td>Royal Challengers Bangalore</td>\n",
       "      <td>Lucknow Super Giants</td>\n",
       "      <td>Eden Gardens, Kolkata</td>\n",
       "      <td>Lucknow Super Giants</td>\n",
       "      <td>field</td>\n",
       "      <td>N</td>\n",
       "      <td>Royal Challengers Bangalore</td>\n",
       "      <td>Runs</td>\n",
       "      <td>14</td>\n",
       "      <td>NaN</td>\n",
       "      <td>RM Patidar</td>\n",
       "      <td>['V Kohli', 'F du Plessis', 'RM Patidar', 'GJ ...</td>\n",
       "      <td>['Q de Kock', 'KL Rahul', 'M Vohra', 'DJ Hooda...</td>\n",
       "      <td>J Madanagopal</td>\n",
       "      <td>MA Gough</td>\n",
       "    </tr>\n",
       "    <tr>\n",
       "      <th>8</th>\n",
       "      <td>1304112</td>\n",
       "      <td>Navi Mumbai</td>\n",
       "      <td>2022-05-18</td>\n",
       "      <td>2022</td>\n",
       "      <td>66</td>\n",
       "      <td>Lucknow Super Giants</td>\n",
       "      <td>Kolkata Knight Riders</td>\n",
       "      <td>Dr DY Patil Sports Academy, Mumbai</td>\n",
       "      <td>Lucknow Super Giants</td>\n",
       "      <td>bat</td>\n",
       "      <td>N</td>\n",
       "      <td>Lucknow Super Giants</td>\n",
       "      <td>Runs</td>\n",
       "      <td>2</td>\n",
       "      <td>NaN</td>\n",
       "      <td>Q de Kock</td>\n",
       "      <td>['Q de Kock', 'KL Rahul', 'E Lewis', 'DJ Hooda...</td>\n",
       "      <td>['VR Iyer', 'A Tomar', 'N Rana', 'SS Iyer', 'S...</td>\n",
       "      <td>R Pandit</td>\n",
       "      <td>YC Barde</td>\n",
       "    </tr>\n",
       "    <tr>\n",
       "      <th>9</th>\n",
       "      <td>1304111</td>\n",
       "      <td>Mumbai</td>\n",
       "      <td>2022-05-17</td>\n",
       "      <td>2022</td>\n",
       "      <td>65</td>\n",
       "      <td>Sunrisers Hyderabad</td>\n",
       "      <td>Mumbai Indians</td>\n",
       "      <td>Wankhede Stadium, Mumbai</td>\n",
       "      <td>Mumbai Indians</td>\n",
       "      <td>field</td>\n",
       "      <td>N</td>\n",
       "      <td>Sunrisers Hyderabad</td>\n",
       "      <td>Runs</td>\n",
       "      <td>3</td>\n",
       "      <td>NaN</td>\n",
       "      <td>RA Tripathi</td>\n",
       "      <td>['Abhishek Sharma', 'PK Garg', 'RA Tripathi', ...</td>\n",
       "      <td>['RG Sharma', 'Ishan Kishan', 'DR Sams', 'Tila...</td>\n",
       "      <td>CB Gaffaney</td>\n",
       "      <td>N Pandit</td>\n",
       "    </tr>\n",
       "    <tr>\n",
       "      <th>10</th>\n",
       "      <td>1304110</td>\n",
       "      <td>Navi Mumbai</td>\n",
       "      <td>2022-05-16</td>\n",
       "      <td>2022</td>\n",
       "      <td>64</td>\n",
       "      <td>Delhi Capitals</td>\n",
       "      <td>Punjab Kings</td>\n",
       "      <td>Dr DY Patil Sports Academy, Mumbai</td>\n",
       "      <td>Punjab Kings</td>\n",
       "      <td>field</td>\n",
       "      <td>N</td>\n",
       "      <td>Delhi Capitals</td>\n",
       "      <td>Runs</td>\n",
       "      <td>17</td>\n",
       "      <td>NaN</td>\n",
       "      <td>SN Thakur</td>\n",
       "      <td>['DA Warner', 'SN Khan', 'MR Marsh', 'Lalit Ya...</td>\n",
       "      <td>['JM Bairstow', 'S Dhawan', 'PBB Rajapaksa', '...</td>\n",
       "      <td>GR Sadashiv Iyer</td>\n",
       "      <td>Nitin Menon</td>\n",
       "    </tr>\n",
       "    <tr>\n",
       "      <th>11</th>\n",
       "      <td>1304109</td>\n",
       "      <td>Mumbai</td>\n",
       "      <td>2022-05-15</td>\n",
       "      <td>2022</td>\n",
       "      <td>63</td>\n",
       "      <td>Rajasthan Royals</td>\n",
       "      <td>Lucknow Super Giants</td>\n",
       "      <td>Brabourne Stadium, Mumbai</td>\n",
       "      <td>Rajasthan Royals</td>\n",
       "      <td>bat</td>\n",
       "      <td>N</td>\n",
       "      <td>Rajasthan Royals</td>\n",
       "      <td>Runs</td>\n",
       "      <td>24</td>\n",
       "      <td>NaN</td>\n",
       "      <td>TA Boult</td>\n",
       "      <td>['YBK Jaiswal', 'JC Buttler', 'SV Samson', 'D ...</td>\n",
       "      <td>['Q de Kock', 'KL Rahul', 'A Badoni', 'DJ Hood...</td>\n",
       "      <td>PG Pathak</td>\n",
       "      <td>Tapan Sharma</td>\n",
       "    </tr>\n",
       "  </tbody>\n",
       "</table>\n",
       "</div>\n",
       "      <button class=\"colab-df-convert\" onclick=\"convertToInteractive('df-3a3697d1-38f1-46ba-86c7-3263668402d2')\"\n",
       "              title=\"Convert this dataframe to an interactive table.\"\n",
       "              style=\"display:none;\">\n",
       "        \n",
       "  <svg xmlns=\"http://www.w3.org/2000/svg\" height=\"24px\"viewBox=\"0 0 24 24\"\n",
       "       width=\"24px\">\n",
       "    <path d=\"M0 0h24v24H0V0z\" fill=\"none\"/>\n",
       "    <path d=\"M18.56 5.44l.94 2.06.94-2.06 2.06-.94-2.06-.94-.94-2.06-.94 2.06-2.06.94zm-11 1L8.5 8.5l.94-2.06 2.06-.94-2.06-.94L8.5 2.5l-.94 2.06-2.06.94zm10 10l.94 2.06.94-2.06 2.06-.94-2.06-.94-.94-2.06-.94 2.06-2.06.94z\"/><path d=\"M17.41 7.96l-1.37-1.37c-.4-.4-.92-.59-1.43-.59-.52 0-1.04.2-1.43.59L10.3 9.45l-7.72 7.72c-.78.78-.78 2.05 0 2.83L4 21.41c.39.39.9.59 1.41.59.51 0 1.02-.2 1.41-.59l7.78-7.78 2.81-2.81c.8-.78.8-2.07 0-2.86zM5.41 20L4 18.59l7.72-7.72 1.47 1.35L5.41 20z\"/>\n",
       "  </svg>\n",
       "      </button>\n",
       "      \n",
       "  <style>\n",
       "    .colab-df-container {\n",
       "      display:flex;\n",
       "      flex-wrap:wrap;\n",
       "      gap: 12px;\n",
       "    }\n",
       "\n",
       "    .colab-df-convert {\n",
       "      background-color: #E8F0FE;\n",
       "      border: none;\n",
       "      border-radius: 50%;\n",
       "      cursor: pointer;\n",
       "      display: none;\n",
       "      fill: #1967D2;\n",
       "      height: 32px;\n",
       "      padding: 0 0 0 0;\n",
       "      width: 32px;\n",
       "    }\n",
       "\n",
       "    .colab-df-convert:hover {\n",
       "      background-color: #E2EBFA;\n",
       "      box-shadow: 0px 1px 2px rgba(60, 64, 67, 0.3), 0px 1px 3px 1px rgba(60, 64, 67, 0.15);\n",
       "      fill: #174EA6;\n",
       "    }\n",
       "\n",
       "    [theme=dark] .colab-df-convert {\n",
       "      background-color: #3B4455;\n",
       "      fill: #D2E3FC;\n",
       "    }\n",
       "\n",
       "    [theme=dark] .colab-df-convert:hover {\n",
       "      background-color: #434B5C;\n",
       "      box-shadow: 0px 1px 3px 1px rgba(0, 0, 0, 0.15);\n",
       "      filter: drop-shadow(0px 1px 2px rgba(0, 0, 0, 0.3));\n",
       "      fill: #FFFFFF;\n",
       "    }\n",
       "  </style>\n",
       "\n",
       "      <script>\n",
       "        const buttonEl =\n",
       "          document.querySelector('#df-3a3697d1-38f1-46ba-86c7-3263668402d2 button.colab-df-convert');\n",
       "        buttonEl.style.display =\n",
       "          google.colab.kernel.accessAllowed ? 'block' : 'none';\n",
       "\n",
       "        async function convertToInteractive(key) {\n",
       "          const element = document.querySelector('#df-3a3697d1-38f1-46ba-86c7-3263668402d2');\n",
       "          const dataTable =\n",
       "            await google.colab.kernel.invokeFunction('convertToInteractive',\n",
       "                                                     [key], {});\n",
       "          if (!dataTable) return;\n",
       "\n",
       "          const docLinkHtml = 'Like what you see? Visit the ' +\n",
       "            '<a target=\"_blank\" href=https://colab.research.google.com/notebooks/data_table.ipynb>data table notebook</a>'\n",
       "            + ' to learn more about interactive tables.';\n",
       "          element.innerHTML = '';\n",
       "          dataTable['output_type'] = 'display_data';\n",
       "          await google.colab.output.renderOutput(dataTable, element);\n",
       "          const docLink = document.createElement('div');\n",
       "          docLink.innerHTML = docLinkHtml;\n",
       "          element.appendChild(docLink);\n",
       "        }\n",
       "      </script>\n",
       "    </div>\n",
       "  </div>\n",
       "  "
      ],
      "text/plain": [
       "         ID         City        Date  Season MatchNumber  \\\n",
       "2   1312198      Kolkata  2022-05-25    2022  Eliminator   \n",
       "8   1304112  Navi Mumbai  2022-05-18    2022          66   \n",
       "9   1304111       Mumbai  2022-05-17    2022          65   \n",
       "10  1304110  Navi Mumbai  2022-05-16    2022          64   \n",
       "11  1304109       Mumbai  2022-05-15    2022          63   \n",
       "\n",
       "                          Team1                  Team2  \\\n",
       "2   Royal Challengers Bangalore   Lucknow Super Giants   \n",
       "8          Lucknow Super Giants  Kolkata Knight Riders   \n",
       "9           Sunrisers Hyderabad         Mumbai Indians   \n",
       "10               Delhi Capitals           Punjab Kings   \n",
       "11             Rajasthan Royals   Lucknow Super Giants   \n",
       "\n",
       "                                 Venue            TossWinner TossDecision  \\\n",
       "2                Eden Gardens, Kolkata  Lucknow Super Giants        field   \n",
       "8   Dr DY Patil Sports Academy, Mumbai  Lucknow Super Giants          bat   \n",
       "9             Wankhede Stadium, Mumbai        Mumbai Indians        field   \n",
       "10  Dr DY Patil Sports Academy, Mumbai          Punjab Kings        field   \n",
       "11           Brabourne Stadium, Mumbai      Rajasthan Royals          bat   \n",
       "\n",
       "   SuperOver                  WinningTeam WonBy  Margin  method  \\\n",
       "2          N  Royal Challengers Bangalore  Runs      14     NaN   \n",
       "8          N         Lucknow Super Giants  Runs       2     NaN   \n",
       "9          N          Sunrisers Hyderabad  Runs       3     NaN   \n",
       "10         N               Delhi Capitals  Runs      17     NaN   \n",
       "11         N             Rajasthan Royals  Runs      24     NaN   \n",
       "\n",
       "   Player_of_Match                                       Team1Players  \\\n",
       "2       RM Patidar  ['V Kohli', 'F du Plessis', 'RM Patidar', 'GJ ...   \n",
       "8        Q de Kock  ['Q de Kock', 'KL Rahul', 'E Lewis', 'DJ Hooda...   \n",
       "9      RA Tripathi  ['Abhishek Sharma', 'PK Garg', 'RA Tripathi', ...   \n",
       "10       SN Thakur  ['DA Warner', 'SN Khan', 'MR Marsh', 'Lalit Ya...   \n",
       "11        TA Boult  ['YBK Jaiswal', 'JC Buttler', 'SV Samson', 'D ...   \n",
       "\n",
       "                                         Team2Players           Umpire1  \\\n",
       "2   ['Q de Kock', 'KL Rahul', 'M Vohra', 'DJ Hooda...     J Madanagopal   \n",
       "8   ['VR Iyer', 'A Tomar', 'N Rana', 'SS Iyer', 'S...          R Pandit   \n",
       "9   ['RG Sharma', 'Ishan Kishan', 'DR Sams', 'Tila...       CB Gaffaney   \n",
       "10  ['JM Bairstow', 'S Dhawan', 'PBB Rajapaksa', '...  GR Sadashiv Iyer   \n",
       "11  ['Q de Kock', 'KL Rahul', 'A Badoni', 'DJ Hood...         PG Pathak   \n",
       "\n",
       "         Umpire2  \n",
       "2       MA Gough  \n",
       "8       YC Barde  \n",
       "9       N Pandit  \n",
       "10   Nitin Menon  \n",
       "11  Tapan Sharma  "
      ]
     },
     "execution_count": 10,
     "metadata": {},
     "output_type": "execute_result"
    }
   ],
   "source": [
    "batting_first.head()"
   ]
  },
  {
   "cell_type": "code",
   "execution_count": 11,
   "id": "a24acd68",
   "metadata": {
    "colab": {
     "base_uri": "https://localhost:8080/",
     "height": 350
    },
    "execution": {
     "iopub.execute_input": "2022-06-28T18:19:11.253224Z",
     "iopub.status.busy": "2022-06-28T18:19:11.252511Z",
     "iopub.status.idle": "2022-06-28T18:19:11.406336Z",
     "shell.execute_reply": "2022-06-28T18:19:11.405035Z"
    },
    "id": "a24acd68",
    "outputId": "7feafdbd-b855-453d-c547-80b097cbd997",
    "papermill": {
     "duration": 0.165569,
     "end_time": "2022-06-28T18:19:11.408774",
     "exception": false,
     "start_time": "2022-06-28T18:19:11.243205",
     "status": "completed"
    },
    "tags": []
   },
   "outputs": [
    {
     "data": {
      "image/png": "[encoded data removed]",
      "text/plain": [
       "<Figure size 360x360 with 1 Axes>"
      ]
     },
     "metadata": {
      "needs_background": "light"
     },
     "output_type": "display_data"
    }
   ],
   "source": [
    "#distrubution of runs\n",
    "plt.figure(figsize=(5,5))\n",
    "plt.hist(batting_first['Margin'])\n",
    "plt.title('Distrubution of runs')\n",
    "plt.xlabel('Runs')\n",
    "plt.show()"
   ]
  },
  {
   "cell_type": "code",
   "execution_count": 12,
   "id": "0b364489",
   "metadata": {
    "colab": {
     "base_uri": "https://localhost:8080/"
    },
    "execution": {
     "iopub.execute_input": "2022-06-28T18:19:11.427456Z",
     "iopub.status.busy": "2022-06-28T18:19:11.426761Z",
     "iopub.status.idle": "2022-06-28T18:19:11.433936Z",
     "shell.execute_reply": "2022-06-28T18:19:11.433168Z"
    },
    "id": "0b364489",
    "outputId": "e3695e27-efbb-4e15-95b0-477440000fa1",
    "papermill": {
     "duration": 0.018947,
     "end_time": "2022-06-28T18:19:11.435805",
     "exception": false,
     "start_time": "2022-06-28T18:19:11.416858",
     "status": "completed"
    },
    "tags": []
   },
   "outputs": [
    {
     "data": {
      "text/plain": [
       "Lucknow Super Giants           7\n",
       "Rajasthan Royals               7\n",
       "Royal Challengers Bangalore    5\n",
       "Punjab Kings                   4\n",
       "Gujarat Titans                 4\n",
       "Delhi Capitals                 3\n",
       "Chennai Super Kings            3\n",
       "Kolkata Knight Riders          2\n",
       "Sunrisers Hyderabad            1\n",
       "Mumbai Indians                 1\n",
       "Name: WinningTeam, dtype: int64"
      ]
     },
     "execution_count": 12,
     "metadata": {},
     "output_type": "execute_result"
    }
   ],
   "source": [
    "#batting first winning\n",
    "batting_first['WinningTeam'].value_counts()"
   ]
  },
  {
   "cell_type": "code",
   "execution_count": 13,
   "id": "e40866a1",
   "metadata": {
    "colab": {
     "base_uri": "https://localhost:8080/",
     "height": 336
    },
    "execution": {
     "iopub.execute_input": "2022-06-28T18:19:11.453931Z",
     "iopub.status.busy": "2022-06-28T18:19:11.452991Z",
     "iopub.status.idle": "2022-06-28T18:19:11.615196Z",
     "shell.execute_reply": "2022-06-28T18:19:11.613947Z"
    },
    "id": "e40866a1",
    "outputId": "48b6a57f-1b26-44cd-fecd-8bce36a6bde4",
    "papermill": {
     "duration": 0.17373,
     "end_time": "2022-06-28T18:19:11.617581",
     "exception": false,
     "start_time": "2022-06-28T18:19:11.443851",
     "status": "completed"
    },
    "tags": []
   },
   "outputs": [
    {
     "data": {
      "image/png": "[encoded data removed]",
      "text/plain": [
       "<Figure size 504x360 with 1 Axes>"
      ]
     },
     "metadata": {
      "needs_background": "light"
     },
     "output_type": "display_data"
    }
   ],
   "source": [
    "#batting first winning team graph\n",
    "plt.figure(figsize=(7,5))\n",
    "plt.bar(list(batting_first['WinningTeam'].value_counts()[0:3].keys()),list(batting_first['WinningTeam'].value_counts()[0:3]),color=['yellow','blue','orange'])\n",
    "plt.title('Batting win match')\n",
    "plt.show()"
   ]
  },
  {
   "cell_type": "code",
   "execution_count": 14,
   "id": "d8b8f7a7",
   "metadata": {
    "colab": {
     "base_uri": "https://localhost:8080/",
     "height": 427
    },
    "execution": {
     "iopub.execute_input": "2022-06-28T18:19:11.635887Z",
     "iopub.status.busy": "2022-06-28T18:19:11.635518Z",
     "iopub.status.idle": "2022-06-28T18:19:11.852886Z",
     "shell.execute_reply": "2022-06-28T18:19:11.851442Z"
    },
    "id": "d8b8f7a7",
    "outputId": "f365443e-3c51-40be-b2a3-453c869800b0",
    "papermill": {
     "duration": 0.231441,
     "end_time": "2022-06-28T18:19:11.857478",
     "exception": false,
     "start_time": "2022-06-28T18:19:11.626037",
     "status": "completed"
    },
    "tags": []
   },
   "outputs": [
    {
     "data": {
      "image/png": "[encoded data removed]",
      "text/plain": [
       "<Figure size 504x504 with 1 Axes>"
      ]
     },
     "metadata": {},
     "output_type": "display_data"
    }
   ],
   "source": [
    "# percentage win team first batting\n",
    "plt.figure(figsize=(7,7))\n",
    "plt.pie(list(batting_first['WinningTeam'].value_counts()),labels=list(batting_first['WinningTeam'].value_counts().keys()),autopct='%0.1f%%')\n",
    "plt.title('percentage of win match')\n",
    "plt.show()"
   ]
  },
  {
   "cell_type": "code",
   "execution_count": 15,
   "id": "82183f98",
   "metadata": {
    "execution": {
     "iopub.execute_input": "2022-06-28T18:19:11.883874Z",
     "iopub.status.busy": "2022-06-28T18:19:11.883015Z",
     "iopub.status.idle": "2022-06-28T18:19:11.887979Z",
     "shell.execute_reply": "2022-06-28T18:19:11.887273Z"
    },
    "id": "82183f98",
    "papermill": {
     "duration": 0.017699,
     "end_time": "2022-06-28T18:19:11.889963",
     "exception": false,
     "start_time": "2022-06-28T18:19:11.872264",
     "status": "completed"
    },
    "tags": []
   },
   "outputs": [],
   "source": [
    "#batting Second win match data anaylist\n",
    "batting_second=ipl[ipl['TossDecision']!='field']"
   ]
  },
  {
   "cell_type": "code",
   "execution_count": 16,
   "id": "f4a6c9e5",
   "metadata": {
    "colab": {
     "base_uri": "https://localhost:8080/",
     "height": 565
    },
    "execution": {
     "iopub.execute_input": "2022-06-28T18:19:11.910441Z",
     "iopub.status.busy": "2022-06-28T18:19:11.909761Z",
     "iopub.status.idle": "2022-06-28T18:19:11.930562Z",
     "shell.execute_reply": "2022-06-28T18:19:11.929485Z"
    },
    "id": "f4a6c9e5",
    "outputId": "c96092ca-97fc-4623-f091-c00783ab53b4",
    "papermill": {
     "duration": 0.033811,
     "end_time": "2022-06-28T18:19:11.932839",
     "exception": false,
     "start_time": "2022-06-28T18:19:11.899028",
     "status": "completed"
    },
    "tags": []
   },
   "outputs": [
    {
     "data": {
      "text/html": [
       "\n",
       "  <div id=\"df-0a959bd7-b74b-4cf2-ba6e-42c5879b4ca8\">\n",
       "    <div class=\"colab-df-container\">\n",
       "      <div>\n",
       "<style scoped>\n",
       "    .dataframe tbody tr th:only-of-type {\n",
       "        vertical-align: middle;\n",
       "    }\n",
       "\n",
       "    .dataframe tbody tr th {\n",
       "        vertical-align: top;\n",
       "    }\n",
       "\n",
       "    .dataframe thead th {\n",
       "        text-align: right;\n",
       "    }\n",
       "</style>\n",
       "<table border=\"1\" class=\"dataframe\">\n",
       "  <thead>\n",
       "    <tr style=\"text-align: right;\">\n",
       "      <th></th>\n",
       "      <th>ID</th>\n",
       "      <th>City</th>\n",
       "      <th>Date</th>\n",
       "      <th>Season</th>\n",
       "      <th>MatchNumber</th>\n",
       "      <th>Team1</th>\n",
       "      <th>Team2</th>\n",
       "      <th>Venue</th>\n",
       "      <th>TossWinner</th>\n",
       "      <th>TossDecision</th>\n",
       "      <th>SuperOver</th>\n",
       "      <th>WinningTeam</th>\n",
       "      <th>WonBy</th>\n",
       "      <th>Margin</th>\n",
       "      <th>method</th>\n",
       "      <th>Player_of_Match</th>\n",
       "      <th>Team1Players</th>\n",
       "      <th>Team2Players</th>\n",
       "      <th>Umpire1</th>\n",
       "      <th>Umpire2</th>\n",
       "    </tr>\n",
       "  </thead>\n",
       "  <tbody>\n",
       "    <tr>\n",
       "      <th>0</th>\n",
       "      <td>1312200</td>\n",
       "      <td>Ahmedabad</td>\n",
       "      <td>2022-05-29</td>\n",
       "      <td>2022</td>\n",
       "      <td>Final</td>\n",
       "      <td>Rajasthan Royals</td>\n",
       "      <td>Gujarat Titans</td>\n",
       "      <td>Narendra Modi Stadium, Ahmedabad</td>\n",
       "      <td>Rajasthan Royals</td>\n",
       "      <td>bat</td>\n",
       "      <td>N</td>\n",
       "      <td>Gujarat Titans</td>\n",
       "      <td>Wickets</td>\n",
       "      <td>7</td>\n",
       "      <td>NaN</td>\n",
       "      <td>HH Pandya</td>\n",
       "      <td>['YBK Jaiswal', 'JC Buttler', 'SV Samson', 'D ...</td>\n",
       "      <td>['WP Saha', 'Shubman Gill', 'MS Wade', 'HH Pan...</td>\n",
       "      <td>CB Gaffaney</td>\n",
       "      <td>Nitin Menon</td>\n",
       "    </tr>\n",
       "    <tr>\n",
       "      <th>4</th>\n",
       "      <td>1304116</td>\n",
       "      <td>Mumbai</td>\n",
       "      <td>2022-05-22</td>\n",
       "      <td>2022</td>\n",
       "      <td>70</td>\n",
       "      <td>Sunrisers Hyderabad</td>\n",
       "      <td>Punjab Kings</td>\n",
       "      <td>Wankhede Stadium, Mumbai</td>\n",
       "      <td>Sunrisers Hyderabad</td>\n",
       "      <td>bat</td>\n",
       "      <td>N</td>\n",
       "      <td>Punjab Kings</td>\n",
       "      <td>Wickets</td>\n",
       "      <td>5</td>\n",
       "      <td>NaN</td>\n",
       "      <td>Harpreet Brar</td>\n",
       "      <td>['PK Garg', 'Abhishek Sharma', 'RA Tripathi', ...</td>\n",
       "      <td>['JM Bairstow', 'S Dhawan', 'M Shahrukh Khan',...</td>\n",
       "      <td>AK Chaudhary</td>\n",
       "      <td>NA Patwardhan</td>\n",
       "    </tr>\n",
       "    <tr>\n",
       "      <th>6</th>\n",
       "      <td>1304114</td>\n",
       "      <td>Mumbai</td>\n",
       "      <td>2022-05-20</td>\n",
       "      <td>2022</td>\n",
       "      <td>68</td>\n",
       "      <td>Chennai Super Kings</td>\n",
       "      <td>Rajasthan Royals</td>\n",
       "      <td>Brabourne Stadium, Mumbai</td>\n",
       "      <td>Chennai Super Kings</td>\n",
       "      <td>bat</td>\n",
       "      <td>N</td>\n",
       "      <td>Rajasthan Royals</td>\n",
       "      <td>Wickets</td>\n",
       "      <td>5</td>\n",
       "      <td>NaN</td>\n",
       "      <td>R Ashwin</td>\n",
       "      <td>['RD Gaikwad', 'DP Conway', 'MM Ali', 'N Jagad...</td>\n",
       "      <td>['YBK Jaiswal', 'JC Buttler', 'SV Samson', 'D ...</td>\n",
       "      <td>CB Gaffaney</td>\n",
       "      <td>NA Patwardhan</td>\n",
       "    </tr>\n",
       "    <tr>\n",
       "      <th>7</th>\n",
       "      <td>1304113</td>\n",
       "      <td>Mumbai</td>\n",
       "      <td>2022-05-19</td>\n",
       "      <td>2022</td>\n",
       "      <td>67</td>\n",
       "      <td>Gujarat Titans</td>\n",
       "      <td>Royal Challengers Bangalore</td>\n",
       "      <td>Wankhede Stadium, Mumbai</td>\n",
       "      <td>Gujarat Titans</td>\n",
       "      <td>bat</td>\n",
       "      <td>N</td>\n",
       "      <td>Royal Challengers Bangalore</td>\n",
       "      <td>Wickets</td>\n",
       "      <td>8</td>\n",
       "      <td>NaN</td>\n",
       "      <td>V Kohli</td>\n",
       "      <td>['WP Saha', 'Shubman Gill', 'MS Wade', 'HH Pan...</td>\n",
       "      <td>['V Kohli', 'F du Plessis', 'GJ Maxwell', 'KD ...</td>\n",
       "      <td>KN Ananthapadmanabhan</td>\n",
       "      <td>GR Sadashiv Iyer</td>\n",
       "    </tr>\n",
       "    <tr>\n",
       "      <th>8</th>\n",
       "      <td>1304112</td>\n",
       "      <td>Navi Mumbai</td>\n",
       "      <td>2022-05-18</td>\n",
       "      <td>2022</td>\n",
       "      <td>66</td>\n",
       "      <td>Lucknow Super Giants</td>\n",
       "      <td>Kolkata Knight Riders</td>\n",
       "      <td>Dr DY Patil Sports Academy, Mumbai</td>\n",
       "      <td>Lucknow Super Giants</td>\n",
       "      <td>bat</td>\n",
       "      <td>N</td>\n",
       "      <td>Lucknow Super Giants</td>\n",
       "      <td>Runs</td>\n",
       "      <td>2</td>\n",
       "      <td>NaN</td>\n",
       "      <td>Q de Kock</td>\n",
       "      <td>['Q de Kock', 'KL Rahul', 'E Lewis', 'DJ Hooda...</td>\n",
       "      <td>['VR Iyer', 'A Tomar', 'N Rana', 'SS Iyer', 'S...</td>\n",
       "      <td>R Pandit</td>\n",
       "      <td>YC Barde</td>\n",
       "    </tr>\n",
       "  </tbody>\n",
       "</table>\n",
       "</div>\n",
       "      <button class=\"colab-df-convert\" onclick=\"convertToInteractive('df-0a959bd7-b74b-4cf2-ba6e-42c5879b4ca8')\"\n",
       "              title=\"Convert this dataframe to an interactive table.\"\n",
       "              style=\"display:none;\">\n",
       "        \n",
       "  <svg xmlns=\"http://www.w3.org/2000/svg\" height=\"24px\"viewBox=\"0 0 24 24\"\n",
       "       width=\"24px\">\n",
       "    <path d=\"M0 0h24v24H0V0z\" fill=\"none\"/>\n",
       "    <path d=\"M18.56 5.44l.94 2.06.94-2.06 2.06-.94-2.06-.94-.94-2.06-.94 2.06-2.06.94zm-11 1L8.5 8.5l.94-2.06 2.06-.94-2.06-.94L8.5 2.5l-.94 2.06-2.06.94zm10 10l.94 2.06.94-2.06 2.06-.94-2.06-.94-.94-2.06-.94 2.06-2.06.94z\"/><path d=\"M17.41 7.96l-1.37-1.37c-.4-.4-.92-.59-1.43-.59-.52 0-1.04.2-1.43.59L10.3 9.45l-7.72 7.72c-.78.78-.78 2.05 0 2.83L4 21.41c.39.39.9.59 1.41.59.51 0 1.02-.2 1.41-.59l7.78-7.78 2.81-2.81c.8-.78.8-2.07 0-2.86zM5.41 20L4 18.59l7.72-7.72 1.47 1.35L5.41 20z\"/>\n",
       "  </svg>\n",
       "      </button>\n",
       "      \n",
       "  <style>\n",
       "    .colab-df-container {\n",
       "      display:flex;\n",
       "      flex-wrap:wrap;\n",
       "      gap: 12px;\n",
       "    }\n",
       "\n",
       "    .colab-df-convert {\n",
       "      background-color: #E8F0FE;\n",
       "      border: none;\n",
       "      border-radius: 50%;\n",
       "      cursor: pointer;\n",
       "      display: none;\n",
       "      fill: #1967D2;\n",
       "      height: 32px;\n",
       "      padding: 0 0 0 0;\n",
       "      width: 32px;\n",
       "    }\n",
       "\n",
       "    .colab-df-convert:hover {\n",
       "      background-color: #E2EBFA;\n",
       "      box-shadow: 0px 1px 2px rgba(60, 64, 67, 0.3), 0px 1px 3px 1px rgba(60, 64, 67, 0.15);\n",
       "      fill: #174EA6;\n",
       "    }\n",
       "\n",
       "    [theme=dark] .colab-df-convert {\n",
       "      background-color: #3B4455;\n",
       "      fill: #D2E3FC;\n",
       "    }\n",
       "\n",
       "    [theme=dark] .colab-df-convert:hover {\n",
       "      background-color: #434B5C;\n",
       "      box-shadow: 0px 1px 3px 1px rgba(0, 0, 0, 0.15);\n",
       "      filter: drop-shadow(0px 1px 2px rgba(0, 0, 0, 0.3));\n",
       "      fill: #FFFFFF;\n",
       "    }\n",
       "  </style>\n",
       "\n",
       "      <script>\n",
       "        const buttonEl =\n",
       "          document.querySelector('#df-0a959bd7-b74b-4cf2-ba6e-42c5879b4ca8 button.colab-df-convert');\n",
       "        buttonEl.style.display =\n",
       "          google.colab.kernel.accessAllowed ? 'block' : 'none';\n",
       "\n",
       "        async function convertToInteractive(key) {\n",
       "          const element = document.querySelector('#df-0a959bd7-b74b-4cf2-ba6e-42c5879b4ca8');\n",
       "          const dataTable =\n",
       "            await google.colab.kernel.invokeFunction('convertToInteractive',\n",
       "                                                     [key], {});\n",
       "          if (!dataTable) return;\n",
       "\n",
       "          const docLinkHtml = 'Like what you see? Visit the ' +\n",
       "            '<a target=\"_blank\" href=https://colab.research.google.com/notebooks/data_table.ipynb>data table notebook</a>'\n",
       "            + ' to learn more about interactive tables.';\n",
       "          element.innerHTML = '';\n",
       "          dataTable['output_type'] = 'display_data';\n",
       "          await google.colab.output.renderOutput(dataTable, element);\n",
       "          const docLink = document.createElement('div');\n",
       "          docLink.innerHTML = docLinkHtml;\n",
       "          element.appendChild(docLink);\n",
       "        }\n",
       "      </script>\n",
       "    </div>\n",
       "  </div>\n",
       "  "
      ],
      "text/plain": [
       "        ID         City        Date  Season MatchNumber                 Team1  \\\n",
       "0  1312200    Ahmedabad  2022-05-29    2022       Final      Rajasthan Royals   \n",
       "4  1304116       Mumbai  2022-05-22    2022          70   Sunrisers Hyderabad   \n",
       "6  1304114       Mumbai  2022-05-20    2022          68   Chennai Super Kings   \n",
       "7  1304113       Mumbai  2022-05-19    2022          67        Gujarat Titans   \n",
       "8  1304112  Navi Mumbai  2022-05-18    2022          66  Lucknow Super Giants   \n",
       "\n",
       "                         Team2                               Venue  \\\n",
       "0               Gujarat Titans    Narendra Modi Stadium, Ahmedabad   \n",
       "4                 Punjab Kings            Wankhede Stadium, Mumbai   \n",
       "6             Rajasthan Royals           Brabourne Stadium, Mumbai   \n",
       "7  Royal Challengers Bangalore            Wankhede Stadium, Mumbai   \n",
       "8        Kolkata Knight Riders  Dr DY Patil Sports Academy, Mumbai   \n",
       "\n",
       "             TossWinner TossDecision SuperOver                  WinningTeam  \\\n",
       "0      Rajasthan Royals          bat         N               Gujarat Titans   \n",
       "4   Sunrisers Hyderabad          bat         N                 Punjab Kings   \n",
       "6   Chennai Super Kings          bat         N             Rajasthan Royals   \n",
       "7        Gujarat Titans          bat         N  Royal Challengers Bangalore   \n",
       "8  Lucknow Super Giants          bat         N         Lucknow Super Giants   \n",
       "\n",
       "     WonBy  Margin  method Player_of_Match  \\\n",
       "0  Wickets       7     NaN       HH Pandya   \n",
       "4  Wickets       5     NaN   Harpreet Brar   \n",
       "6  Wickets       5     NaN        R Ashwin   \n",
       "7  Wickets       8     NaN         V Kohli   \n",
       "8     Runs       2     NaN       Q de Kock   \n",
       "\n",
       "                                        Team1Players  \\\n",
       "0  ['YBK Jaiswal', 'JC Buttler', 'SV Samson', 'D ...   \n",
       "4  ['PK Garg', 'Abhishek Sharma', 'RA Tripathi', ...   \n",
       "6  ['RD Gaikwad', 'DP Conway', 'MM Ali', 'N Jagad...   \n",
       "7  ['WP Saha', 'Shubman Gill', 'MS Wade', 'HH Pan...   \n",
       "8  ['Q de Kock', 'KL Rahul', 'E Lewis', 'DJ Hooda...   \n",
       "\n",
       "                                        Team2Players                Umpire1  \\\n",
       "0  ['WP Saha', 'Shubman Gill', 'MS Wade', 'HH Pan...            CB Gaffaney   \n",
       "4  ['JM Bairstow', 'S Dhawan', 'M Shahrukh Khan',...           AK Chaudhary   \n",
       "6  ['YBK Jaiswal', 'JC Buttler', 'SV Samson', 'D ...            CB Gaffaney   \n",
       "7  ['V Kohli', 'F du Plessis', 'GJ Maxwell', 'KD ...  KN Ananthapadmanabhan   \n",
       "8  ['VR Iyer', 'A Tomar', 'N Rana', 'SS Iyer', 'S...               R Pandit   \n",
       "\n",
       "            Umpire2  \n",
       "0       Nitin Menon  \n",
       "4     NA Patwardhan  \n",
       "6     NA Patwardhan  \n",
       "7  GR Sadashiv Iyer  \n",
       "8          YC Barde  "
      ]
     },
     "execution_count": 16,
     "metadata": {},
     "output_type": "execute_result"
    }
   ],
   "source": [
    "batting_second.head()"
   ]
  },
  {
   "cell_type": "code",
   "execution_count": 17,
   "id": "eb199927",
   "metadata": {
    "colab": {
     "base_uri": "https://localhost:8080/",
     "height": 350
    },
    "execution": {
     "iopub.execute_input": "2022-06-28T18:19:11.953729Z",
     "iopub.status.busy": "2022-06-28T18:19:11.953277Z",
     "iopub.status.idle": "2022-06-28T18:19:12.181367Z",
     "shell.execute_reply": "2022-06-28T18:19:12.180155Z"
    },
    "id": "eb199927",
    "outputId": "50118fa2-dbfc-4271-f76f-d78ce456c7db",
    "papermill": {
     "duration": 0.241521,
     "end_time": "2022-06-28T18:19:12.183933",
     "exception": false,
     "start_time": "2022-06-28T18:19:11.942412",
     "status": "completed"
    },
    "tags": []
   },
   "outputs": [
    {
     "data": {
      "image/png": "[encoded data removed]",
      "text/plain": [
       "<Figure size 360x360 with 1 Axes>"
      ]
     },
     "metadata": {
      "needs_background": "light"
     },
     "output_type": "display_data"
    }
   ],
   "source": [
    "plt.figure(figsize=(5,5))\n",
    "plt.hist(batting_second['Margin'],bins=30)\n",
    "plt.title('Distubution run')\n",
    "plt.xlabel('Runs')\n",
    "plt.show()"
   ]
  },
  {
   "cell_type": "code",
   "execution_count": 18,
   "id": "c8e58ae6",
   "metadata": {
    "colab": {
     "base_uri": "https://localhost:8080/"
    },
    "execution": {
     "iopub.execute_input": "2022-06-28T18:19:12.205602Z",
     "iopub.status.busy": "2022-06-28T18:19:12.204662Z",
     "iopub.status.idle": "2022-06-28T18:19:12.213584Z",
     "shell.execute_reply": "2022-06-28T18:19:12.212684Z"
    },
    "id": "c8e58ae6",
    "outputId": "c067d62c-84eb-481d-c65e-1b7525cf856b",
    "papermill": {
     "duration": 0.023934,
     "end_time": "2022-06-28T18:19:12.217868",
     "exception": false,
     "start_time": "2022-06-28T18:19:12.193934",
     "status": "completed"
    },
    "tags": []
   },
   "outputs": [
    {
     "data": {
      "text/plain": [
       "Gujarat Titans                 5\n",
       "Rajasthan Royals               3\n",
       "Punjab Kings                   2\n",
       "Royal Challengers Bangalore    2\n",
       "Lucknow Super Giants           2\n",
       "Kolkata Knight Riders          1\n",
       "Name: WinningTeam, dtype: int64"
      ]
     },
     "execution_count": 18,
     "metadata": {},
     "output_type": "execute_result"
    }
   ],
   "source": [
    "batting_second['WinningTeam'].value_counts()"
   ]
  },
  {
   "cell_type": "code",
   "execution_count": 19,
   "id": "e458a11b",
   "metadata": {
    "colab": {
     "base_uri": "https://localhost:8080/",
     "height": 336
    },
    "execution": {
     "iopub.execute_input": "2022-06-28T18:19:12.247692Z",
     "iopub.status.busy": "2022-06-28T18:19:12.246308Z",
     "iopub.status.idle": "2022-06-28T18:19:12.422386Z",
     "shell.execute_reply": "2022-06-28T18:19:12.419633Z"
    },
    "id": "e458a11b",
    "outputId": "66b835c5-1a9d-420b-d044-cb3b4126d42e",
    "papermill": {
     "duration": 0.190004,
     "end_time": "2022-06-28T18:19:12.425152",
     "exception": false,
     "start_time": "2022-06-28T18:19:12.235148",
     "status": "completed"
    },
    "tags": []
   },
   "outputs": [
    {
     "data": {
      "image/png": "[encoded data removed]",
      "text/plain": [
       "<Figure size 360x360 with 1 Axes>"
      ]
     },
     "metadata": {
      "needs_background": "light"
     },
     "output_type": "display_data"
    }
   ],
   "source": [
    "plt.figure(figsize=(5,5))\n",
    "plt.bar(list(batting_second['WinningTeam'].value_counts()[0:3].keys()),list(batting_second['WinningTeam'].value_counts()[0:3]),color=['yellow','blue','green'])\n",
    "plt.title('Second Batting win Team')\n",
    "plt.show()"
   ]
  },
  {
   "cell_type": "code",
   "execution_count": 20,
   "id": "3350fadb",
   "metadata": {
    "colab": {
     "base_uri": "https://localhost:8080/",
     "height": 427
    },
    "execution": {
     "iopub.execute_input": "2022-06-28T18:19:12.448247Z",
     "iopub.status.busy": "2022-06-28T18:19:12.447283Z",
     "iopub.status.idle": "2022-06-28T18:19:12.570626Z",
     "shell.execute_reply": "2022-06-28T18:19:12.569397Z"
    },
    "id": "3350fadb",
    "outputId": "b7cd2c2f-d2a8-40a7-a66d-dc5166565477",
    "papermill": {
     "duration": 0.138049,
     "end_time": "2022-06-28T18:19:12.573919",
     "exception": false,
     "start_time": "2022-06-28T18:19:12.435870",
     "status": "completed"
    },
    "tags": []
   },
   "outputs": [
    {
     "data": {
      "image/png": "[encoded data removed]",
      "text/plain": [
       "<Figure size 504x504 with 1 Axes>"
      ]
     },
     "metadata": {},
     "output_type": "display_data"
    }
   ],
   "source": [
    "plt.figure(figsize=(7,7))\n",
    "plt.pie(list(batting_second['WinningTeam'].value_counts()[0:3]),labels=list(batting_second['WinningTeam'].value_counts()[0:3].keys()),autopct='%0.1f%%')\n",
    "plt.title('Second Batting win Team')\n",
    "plt.show()"
   ]
  },
  {
   "cell_type": "code",
   "execution_count": 21,
   "id": "ea5b5158",
   "metadata": {
    "colab": {
     "base_uri": "https://localhost:8080/"
    },
    "execution": {
     "iopub.execute_input": "2022-06-28T18:19:12.617160Z",
     "iopub.status.busy": "2022-06-28T18:19:12.616606Z",
     "iopub.status.idle": "2022-06-28T18:19:12.632138Z",
     "shell.execute_reply": "2022-06-28T18:19:12.630851Z"
    },
    "id": "ea5b5158",
    "outputId": "9009c062-34af-475e-802d-d447acd88008",
    "papermill": {
     "duration": 0.041522,
     "end_time": "2022-06-28T18:19:12.635975",
     "exception": false,
     "start_time": "2022-06-28T18:19:12.594453",
     "status": "completed"
    },
    "tags": []
   },
   "outputs": [
    {
     "data": {
      "text/plain": [
       "Mumbai         48\n",
       "Pune           13\n",
       "Navi Mumbai     9\n",
       "Ahmedabad       2\n",
       "Kolkata         2\n",
       "Name: City, dtype: int64"
      ]
     },
     "execution_count": 21,
     "metadata": {},
     "output_type": "execute_result"
    }
   ],
   "source": [
    "# how many match in city\n",
    "ipl['City'].value_counts()"
   ]
  },
  {
   "cell_type": "code",
   "execution_count": 22,
   "id": "28fab35c",
   "metadata": {
    "execution": {
     "iopub.execute_input": "2022-06-28T18:19:12.659773Z",
     "iopub.status.busy": "2022-06-28T18:19:12.658569Z",
     "iopub.status.idle": "2022-06-28T18:19:12.717289Z",
     "shell.execute_reply": "2022-06-28T18:19:12.716521Z"
    },
    "id": "28fab35c",
    "papermill": {
     "duration": 0.073102,
     "end_time": "2022-06-28T18:19:12.720041",
     "exception": false,
     "start_time": "2022-06-28T18:19:12.646939",
     "status": "completed"
    },
    "tags": []
   },
   "outputs": [],
   "source": [
    "ball=pd.read_csv('/content/IPL_Ball_by_Ball_2022.csv')"
   ]
  },
  {
   "cell_type": "code",
   "execution_count": 23,
   "id": "93b9fd6e",
   "metadata": {
    "colab": {
     "base_uri": "https://localhost:8080/",
     "height": 374
    },
    "execution": {
     "iopub.execute_input": "2022-06-28T18:19:12.742445Z",
     "iopub.status.busy": "2022-06-28T18:19:12.741803Z",
     "iopub.status.idle": "2022-06-28T18:19:12.759220Z",
     "shell.execute_reply": "2022-06-28T18:19:12.758407Z"
    },
    "id": "93b9fd6e",
    "outputId": "4f5a5bec-542a-4f84-84e7-1a52ddd51747",
    "papermill": {
     "duration": 0.031308,
     "end_time": "2022-06-28T18:19:12.761604",
     "exception": false,
     "start_time": "2022-06-28T18:19:12.730296",
     "status": "completed"
    },
    "tags": []
   },
   "outputs": [
    {
     "data": {
      "text/html": [
       "\n",
       "  <div id=\"df-9b5ee298-80d7-4410-89dc-86e6a59733a0\">\n",
       "    <div class=\"colab-df-container\">\n",
       "      <div>\n",
       "<style scoped>\n",
       "    .dataframe tbody tr th:only-of-type {\n",
       "        vertical-align: middle;\n",
       "    }\n",
       "\n",
       "    .dataframe tbody tr th {\n",
       "        vertical-align: top;\n",
       "    }\n",
       "\n",
       "    .dataframe thead th {\n",
       "        text-align: right;\n",
       "    }\n",
       "</style>\n",
       "<table border=\"1\" class=\"dataframe\">\n",
       "  <thead>\n",
       "    <tr style=\"text-align: right;\">\n",
       "      <th></th>\n",
       "      <th>ID</th>\n",
       "      <th>innings</th>\n",
       "      <th>overs</th>\n",
       "      <th>ballnumber</th>\n",
       "      <th>batter</th>\n",
       "      <th>bowler</th>\n",
       "      <th>non-striker</th>\n",
       "      <th>extra_type</th>\n",
       "      <th>batsman_run</th>\n",
       "      <th>extras_run</th>\n",
       "      <th>total_run</th>\n",
       "      <th>non_boundary</th>\n",
       "      <th>isWicketDelivery</th>\n",
       "      <th>player_out</th>\n",
       "      <th>kind</th>\n",
       "      <th>fielders_involved</th>\n",
       "      <th>BattingTeam</th>\n",
       "    </tr>\n",
       "  </thead>\n",
       "  <tbody>\n",
       "    <tr>\n",
       "      <th>0</th>\n",
       "      <td>1312200</td>\n",
       "      <td>1</td>\n",
       "      <td>0</td>\n",
       "      <td>1</td>\n",
       "      <td>YBK Jaiswal</td>\n",
       "      <td>Mohammed Shami</td>\n",
       "      <td>JC Buttler</td>\n",
       "      <td>NaN</td>\n",
       "      <td>0</td>\n",
       "      <td>0</td>\n",
       "      <td>0</td>\n",
       "      <td>0</td>\n",
       "      <td>0</td>\n",
       "      <td>NaN</td>\n",
       "      <td>NaN</td>\n",
       "      <td>NaN</td>\n",
       "      <td>Rajasthan Royals</td>\n",
       "    </tr>\n",
       "    <tr>\n",
       "      <th>1</th>\n",
       "      <td>1312200</td>\n",
       "      <td>1</td>\n",
       "      <td>0</td>\n",
       "      <td>2</td>\n",
       "      <td>YBK Jaiswal</td>\n",
       "      <td>Mohammed Shami</td>\n",
       "      <td>JC Buttler</td>\n",
       "      <td>legbyes</td>\n",
       "      <td>0</td>\n",
       "      <td>1</td>\n",
       "      <td>1</td>\n",
       "      <td>0</td>\n",
       "      <td>0</td>\n",
       "      <td>NaN</td>\n",
       "      <td>NaN</td>\n",
       "      <td>NaN</td>\n",
       "      <td>Rajasthan Royals</td>\n",
       "    </tr>\n",
       "    <tr>\n",
       "      <th>2</th>\n",
       "      <td>1312200</td>\n",
       "      <td>1</td>\n",
       "      <td>0</td>\n",
       "      <td>3</td>\n",
       "      <td>JC Buttler</td>\n",
       "      <td>Mohammed Shami</td>\n",
       "      <td>YBK Jaiswal</td>\n",
       "      <td>NaN</td>\n",
       "      <td>1</td>\n",
       "      <td>0</td>\n",
       "      <td>1</td>\n",
       "      <td>0</td>\n",
       "      <td>0</td>\n",
       "      <td>NaN</td>\n",
       "      <td>NaN</td>\n",
       "      <td>NaN</td>\n",
       "      <td>Rajasthan Royals</td>\n",
       "    </tr>\n",
       "    <tr>\n",
       "      <th>3</th>\n",
       "      <td>1312200</td>\n",
       "      <td>1</td>\n",
       "      <td>0</td>\n",
       "      <td>4</td>\n",
       "      <td>YBK Jaiswal</td>\n",
       "      <td>Mohammed Shami</td>\n",
       "      <td>JC Buttler</td>\n",
       "      <td>NaN</td>\n",
       "      <td>0</td>\n",
       "      <td>0</td>\n",
       "      <td>0</td>\n",
       "      <td>0</td>\n",
       "      <td>0</td>\n",
       "      <td>NaN</td>\n",
       "      <td>NaN</td>\n",
       "      <td>NaN</td>\n",
       "      <td>Rajasthan Royals</td>\n",
       "    </tr>\n",
       "    <tr>\n",
       "      <th>4</th>\n",
       "      <td>1312200</td>\n",
       "      <td>1</td>\n",
       "      <td>0</td>\n",
       "      <td>5</td>\n",
       "      <td>YBK Jaiswal</td>\n",
       "      <td>Mohammed Shami</td>\n",
       "      <td>JC Buttler</td>\n",
       "      <td>NaN</td>\n",
       "      <td>0</td>\n",
       "      <td>0</td>\n",
       "      <td>0</td>\n",
       "      <td>0</td>\n",
       "      <td>0</td>\n",
       "      <td>NaN</td>\n",
       "      <td>NaN</td>\n",
       "      <td>NaN</td>\n",
       "      <td>Rajasthan Royals</td>\n",
       "    </tr>\n",
       "  </tbody>\n",
       "</table>\n",
       "</div>\n",
       "      <button class=\"colab-df-convert\" onclick=\"convertToInteractive('df-9b5ee298-80d7-4410-89dc-86e6a59733a0')\"\n",
       "              title=\"Convert this dataframe to an interactive table.\"\n",
       "              style=\"display:none;\">\n",
       "        \n",
       "  <svg xmlns=\"http://www.w3.org/2000/svg\" height=\"24px\"viewBox=\"0 0 24 24\"\n",
       "       width=\"24px\">\n",
       "    <path d=\"M0 0h24v24H0V0z\" fill=\"none\"/>\n",
       "    <path d=\"M18.56 5.44l.94 2.06.94-2.06 2.06-.94-2.06-.94-.94-2.06-.94 2.06-2.06.94zm-11 1L8.5 8.5l.94-2.06 2.06-.94-2.06-.94L8.5 2.5l-.94 2.06-2.06.94zm10 10l.94 2.06.94-2.06 2.06-.94-2.06-.94-.94-2.06-.94 2.06-2.06.94z\"/><path d=\"M17.41 7.96l-1.37-1.37c-.4-.4-.92-.59-1.43-.59-.52 0-1.04.2-1.43.59L10.3 9.45l-7.72 7.72c-.78.78-.78 2.05 0 2.83L4 21.41c.39.39.9.59 1.41.59.51 0 1.02-.2 1.41-.59l7.78-7.78 2.81-2.81c.8-.78.8-2.07 0-2.86zM5.41 20L4 18.59l7.72-7.72 1.47 1.35L5.41 20z\"/>\n",
       "  </svg>\n",
       "      </button>\n",
       "      \n",
       "  <style>\n",
       "    .colab-df-container {\n",
       "      display:flex;\n",
       "      flex-wrap:wrap;\n",
       "      gap: 12px;\n",
       "    }\n",
       "\n",
       "    .colab-df-convert {\n",
       "      background-color: #E8F0FE;\n",
       "      border: none;\n",
       "      border-radius: 50%;\n",
       "      cursor: pointer;\n",
       "      display: none;\n",
       "      fill: #1967D2;\n",
       "      height: 32px;\n",
       "      padding: 0 0 0 0;\n",
       "      width: 32px;\n",
       "    }\n",
       "\n",
       "    .colab-df-convert:hover {\n",
       "      background-color: #E2EBFA;\n",
       "      box-shadow: 0px 1px 2px rgba(60, 64, 67, 0.3), 0px 1px 3px 1px rgba(60, 64, 67, 0.15);\n",
       "      fill: #174EA6;\n",
       "    }\n",
       "\n",
       "    [theme=dark] .colab-df-convert {\n",
       "      background-color: #3B4455;\n",
       "      fill: #D2E3FC;\n",
       "    }\n",
       "\n",
       "    [theme=dark] .colab-df-convert:hover {\n",
       "      background-color: #434B5C;\n",
       "      box-shadow: 0px 1px 3px 1px rgba(0, 0, 0, 0.15);\n",
       "      filter: drop-shadow(0px 1px 2px rgba(0, 0, 0, 0.3));\n",
       "      fill: #FFFFFF;\n",
       "    }\n",
       "  </style>\n",
       "\n",
       "      <script>\n",
       "        const buttonEl =\n",
       "          document.querySelector('#df-9b5ee298-80d7-4410-89dc-86e6a59733a0 button.colab-df-convert');\n",
       "        buttonEl.style.display =\n",
       "          google.colab.kernel.accessAllowed ? 'block' : 'none';\n",
       "\n",
       "        async function convertToInteractive(key) {\n",
       "          const element = document.querySelector('#df-9b5ee298-80d7-4410-89dc-86e6a59733a0');\n",
       "          const dataTable =\n",
       "            await google.colab.kernel.invokeFunction('convertToInteractive',\n",
       "                                                     [key], {});\n",
       "          if (!dataTable) return;\n",
       "\n",
       "          const docLinkHtml = 'Like what you see? Visit the ' +\n",
       "            '<a target=\"_blank\" href=https://colab.research.google.com/notebooks/data_table.ipynb>data table notebook</a>'\n",
       "            + ' to learn more about interactive tables.';\n",
       "          element.innerHTML = '';\n",
       "          dataTable['output_type'] = 'display_data';\n",
       "          await google.colab.output.renderOutput(dataTable, element);\n",
       "          const docLink = document.createElement('div');\n",
       "          docLink.innerHTML = docLinkHtml;\n",
       "          element.appendChild(docLink);\n",
       "        }\n",
       "      </script>\n",
       "    </div>\n",
       "  </div>\n",
       "  "
      ],
      "text/plain": [
       "        ID  innings  overs  ballnumber       batter          bowler  \\\n",
       "0  1312200        1      0           1  YBK Jaiswal  Mohammed Shami   \n",
       "1  1312200        1      0           2  YBK Jaiswal  Mohammed Shami   \n",
       "2  1312200        1      0           3   JC Buttler  Mohammed Shami   \n",
       "3  1312200        1      0           4  YBK Jaiswal  Mohammed Shami   \n",
       "4  1312200        1      0           5  YBK Jaiswal  Mohammed Shami   \n",
       "\n",
       "   non-striker extra_type  batsman_run  extras_run  total_run  non_boundary  \\\n",
       "0   JC Buttler        NaN            0           0          0             0   \n",
       "1   JC Buttler    legbyes            0           1          1             0   \n",
       "2  YBK Jaiswal        NaN            1           0          1             0   \n",
       "3   JC Buttler        NaN            0           0          0             0   \n",
       "4   JC Buttler        NaN            0           0          0             0   \n",
       "\n",
       "   isWicketDelivery player_out kind fielders_involved       BattingTeam  \n",
       "0                 0        NaN  NaN               NaN  Rajasthan Royals  \n",
       "1                 0        NaN  NaN               NaN  Rajasthan Royals  \n",
       "2                 0        NaN  NaN               NaN  Rajasthan Royals  \n",
       "3                 0        NaN  NaN               NaN  Rajasthan Royals  \n",
       "4                 0        NaN  NaN               NaN  Rajasthan Royals  "
      ]
     },
     "execution_count": 23,
     "metadata": {},
     "output_type": "execute_result"
    }
   ],
   "source": [
    "ball.head()"
   ]
  },
  {
   "cell_type": "code",
   "execution_count": 24,
   "id": "5e065f9c",
   "metadata": {
    "colab": {
     "base_uri": "https://localhost:8080/"
    },
    "execution": {
     "iopub.execute_input": "2022-06-28T18:19:12.784532Z",
     "iopub.status.busy": "2022-06-28T18:19:12.784063Z",
     "iopub.status.idle": "2022-06-28T18:19:12.794232Z",
     "shell.execute_reply": "2022-06-28T18:19:12.793096Z"
    },
    "id": "5e065f9c",
    "outputId": "2747999c-4580-46d6-ac61-5e85c1571594",
    "papermill": {
     "duration": 0.024532,
     "end_time": "2022-06-28T18:19:12.796650",
     "exception": false,
     "start_time": "2022-06-28T18:19:12.772118",
     "status": "completed"
    },
    "tags": []
   },
   "outputs": [
    {
     "data": {
      "text/plain": [
       "array([1312200, 1312199, 1312198, 1312197, 1304116, 1304115, 1304114,\n",
       "       1304113, 1304112, 1304111, 1304110, 1304109, 1304108, 1304107,\n",
       "       1304106, 1304105, 1304104, 1304103, 1304102, 1304101, 1304100,\n",
       "       1304099, 1304098, 1304097, 1304096, 1304095, 1304094, 1304093,\n",
       "       1304092, 1304091, 1304090, 1304089, 1304088, 1304087, 1304086,\n",
       "       1304085, 1304084, 1304083, 1304082, 1304081, 1304080, 1304079,\n",
       "       1304078, 1304077, 1304076, 1304075, 1304074, 1304073, 1304072,\n",
       "       1304071, 1304070, 1304069, 1304068, 1304067, 1304066, 1304065,\n",
       "       1304064, 1304063, 1304062, 1304061, 1304060, 1304059, 1304058,\n",
       "       1304057, 1304056, 1304055, 1304054, 1304053, 1304052, 1304051,\n",
       "       1304050, 1304049, 1304048, 1304047])"
      ]
     },
     "execution_count": 24,
     "metadata": {},
     "output_type": "execute_result"
    }
   ],
   "source": [
    "ball['ID'].unique()"
   ]
  },
  {
   "cell_type": "code",
   "execution_count": 25,
   "id": "7d862c76",
   "metadata": {
    "execution": {
     "iopub.execute_input": "2022-06-28T18:19:12.819489Z",
     "iopub.status.busy": "2022-06-28T18:19:12.819085Z",
     "iopub.status.idle": "2022-06-28T18:19:12.824706Z",
     "shell.execute_reply": "2022-06-28T18:19:12.823767Z"
    },
    "id": "7d862c76",
    "papermill": {
     "duration": 0.019627,
     "end_time": "2022-06-28T18:19:12.826764",
     "exception": false,
     "start_time": "2022-06-28T18:19:12.807137",
     "status": "completed"
    },
    "tags": []
   },
   "outputs": [],
   "source": [
    "match_1=ball[ball['ID']==1312200]"
   ]
  },
  {
   "cell_type": "code",
   "execution_count": 26,
   "id": "661b60f5",
   "metadata": {
    "colab": {
     "base_uri": "https://localhost:8080/",
     "height": 374
    },
    "execution": {
     "iopub.execute_input": "2022-06-28T18:19:12.850644Z",
     "iopub.status.busy": "2022-06-28T18:19:12.849871Z",
     "iopub.status.idle": "2022-06-28T18:19:12.866868Z",
     "shell.execute_reply": "2022-06-28T18:19:12.865650Z"
    },
    "id": "661b60f5",
    "outputId": "542439ed-7529-4502-a380-76ef87111d29",
    "papermill": {
     "duration": 0.031518,
     "end_time": "2022-06-28T18:19:12.869077",
     "exception": false,
     "start_time": "2022-06-28T18:19:12.837559",
     "status": "completed"
    },
    "tags": []
   },
   "outputs": [
    {
     "data": {
      "text/html": [
       "\n",
       "  <div id=\"df-94fe1ebd-963f-47b6-9e7a-07183ff98dd8\">\n",
       "    <div class=\"colab-df-container\">\n",
       "      <div>\n",
       "<style scoped>\n",
       "    .dataframe tbody tr th:only-of-type {\n",
       "        vertical-align: middle;\n",
       "    }\n",
       "\n",
       "    .dataframe tbody tr th {\n",
       "        vertical-align: top;\n",
       "    }\n",
       "\n",
       "    .dataframe thead th {\n",
       "        text-align: right;\n",
       "    }\n",
       "</style>\n",
       "<table border=\"1\" class=\"dataframe\">\n",
       "  <thead>\n",
       "    <tr style=\"text-align: right;\">\n",
       "      <th></th>\n",
       "      <th>ID</th>\n",
       "      <th>innings</th>\n",
       "      <th>overs</th>\n",
       "      <th>ballnumber</th>\n",
       "      <th>batter</th>\n",
       "      <th>bowler</th>\n",
       "      <th>non-striker</th>\n",
       "      <th>extra_type</th>\n",
       "      <th>batsman_run</th>\n",
       "      <th>extras_run</th>\n",
       "      <th>total_run</th>\n",
       "      <th>non_boundary</th>\n",
       "      <th>isWicketDelivery</th>\n",
       "      <th>player_out</th>\n",
       "      <th>kind</th>\n",
       "      <th>fielders_involved</th>\n",
       "      <th>BattingTeam</th>\n",
       "    </tr>\n",
       "  </thead>\n",
       "  <tbody>\n",
       "    <tr>\n",
       "      <th>0</th>\n",
       "      <td>1312200</td>\n",
       "      <td>1</td>\n",
       "      <td>0</td>\n",
       "      <td>1</td>\n",
       "      <td>YBK Jaiswal</td>\n",
       "      <td>Mohammed Shami</td>\n",
       "      <td>JC Buttler</td>\n",
       "      <td>NaN</td>\n",
       "      <td>0</td>\n",
       "      <td>0</td>\n",
       "      <td>0</td>\n",
       "      <td>0</td>\n",
       "      <td>0</td>\n",
       "      <td>NaN</td>\n",
       "      <td>NaN</td>\n",
       "      <td>NaN</td>\n",
       "      <td>Rajasthan Royals</td>\n",
       "    </tr>\n",
       "    <tr>\n",
       "      <th>1</th>\n",
       "      <td>1312200</td>\n",
       "      <td>1</td>\n",
       "      <td>0</td>\n",
       "      <td>2</td>\n",
       "      <td>YBK Jaiswal</td>\n",
       "      <td>Mohammed Shami</td>\n",
       "      <td>JC Buttler</td>\n",
       "      <td>legbyes</td>\n",
       "      <td>0</td>\n",
       "      <td>1</td>\n",
       "      <td>1</td>\n",
       "      <td>0</td>\n",
       "      <td>0</td>\n",
       "      <td>NaN</td>\n",
       "      <td>NaN</td>\n",
       "      <td>NaN</td>\n",
       "      <td>Rajasthan Royals</td>\n",
       "    </tr>\n",
       "    <tr>\n",
       "      <th>2</th>\n",
       "      <td>1312200</td>\n",
       "      <td>1</td>\n",
       "      <td>0</td>\n",
       "      <td>3</td>\n",
       "      <td>JC Buttler</td>\n",
       "      <td>Mohammed Shami</td>\n",
       "      <td>YBK Jaiswal</td>\n",
       "      <td>NaN</td>\n",
       "      <td>1</td>\n",
       "      <td>0</td>\n",
       "      <td>1</td>\n",
       "      <td>0</td>\n",
       "      <td>0</td>\n",
       "      <td>NaN</td>\n",
       "      <td>NaN</td>\n",
       "      <td>NaN</td>\n",
       "      <td>Rajasthan Royals</td>\n",
       "    </tr>\n",
       "    <tr>\n",
       "      <th>3</th>\n",
       "      <td>1312200</td>\n",
       "      <td>1</td>\n",
       "      <td>0</td>\n",
       "      <td>4</td>\n",
       "      <td>YBK Jaiswal</td>\n",
       "      <td>Mohammed Shami</td>\n",
       "      <td>JC Buttler</td>\n",
       "      <td>NaN</td>\n",
       "      <td>0</td>\n",
       "      <td>0</td>\n",
       "      <td>0</td>\n",
       "      <td>0</td>\n",
       "      <td>0</td>\n",
       "      <td>NaN</td>\n",
       "      <td>NaN</td>\n",
       "      <td>NaN</td>\n",
       "      <td>Rajasthan Royals</td>\n",
       "    </tr>\n",
       "    <tr>\n",
       "      <th>4</th>\n",
       "      <td>1312200</td>\n",
       "      <td>1</td>\n",
       "      <td>0</td>\n",
       "      <td>5</td>\n",
       "      <td>YBK Jaiswal</td>\n",
       "      <td>Mohammed Shami</td>\n",
       "      <td>JC Buttler</td>\n",
       "      <td>NaN</td>\n",
       "      <td>0</td>\n",
       "      <td>0</td>\n",
       "      <td>0</td>\n",
       "      <td>0</td>\n",
       "      <td>0</td>\n",
       "      <td>NaN</td>\n",
       "      <td>NaN</td>\n",
       "      <td>NaN</td>\n",
       "      <td>Rajasthan Royals</td>\n",
       "    </tr>\n",
       "  </tbody>\n",
       "</table>\n",
       "</div>\n",
       "      <button class=\"colab-df-convert\" onclick=\"convertToInteractive('df-94fe1ebd-963f-47b6-9e7a-07183ff98dd8')\"\n",
       "              title=\"Convert this dataframe to an interactive table.\"\n",
       "              style=\"display:none;\">\n",
       "        \n",
       "  <svg xmlns=\"http://www.w3.org/2000/svg\" height=\"24px\"viewBox=\"0 0 24 24\"\n",
       "       width=\"24px\">\n",
       "    <path d=\"M0 0h24v24H0V0z\" fill=\"none\"/>\n",
       "    <path d=\"M18.56 5.44l.94 2.06.94-2.06 2.06-.94-2.06-.94-.94-2.06-.94 2.06-2.06.94zm-11 1L8.5 8.5l.94-2.06 2.06-.94-2.06-.94L8.5 2.5l-.94 2.06-2.06.94zm10 10l.94 2.06.94-2.06 2.06-.94-2.06-.94-.94-2.06-.94 2.06-2.06.94z\"/><path d=\"M17.41 7.96l-1.37-1.37c-.4-.4-.92-.59-1.43-.59-.52 0-1.04.2-1.43.59L10.3 9.45l-7.72 7.72c-.78.78-.78 2.05 0 2.83L4 21.41c.39.39.9.59 1.41.59.51 0 1.02-.2 1.41-.59l7.78-7.78 2.81-2.81c.8-.78.8-2.07 0-2.86zM5.41 20L4 18.59l7.72-7.72 1.47 1.35L5.41 20z\"/>\n",
       "  </svg>\n",
       "      </button>\n",
       "      \n",
       "  <style>\n",
       "    .colab-df-container {\n",
       "      display:flex;\n",
       "      flex-wrap:wrap;\n",
       "      gap: 12px;\n",
       "    }\n",
       "\n",
       "    .colab-df-convert {\n",
       "      background-color: #E8F0FE;\n",
       "      border: none;\n",
       "      border-radius: 50%;\n",
       "      cursor: pointer;\n",
       "      display: none;\n",
       "      fill: #1967D2;\n",
       "      height: 32px;\n",
       "      padding: 0 0 0 0;\n",
       "      width: 32px;\n",
       "    }\n",
       "\n",
       "    .colab-df-convert:hover {\n",
       "      background-color: #E2EBFA;\n",
       "      box-shadow: 0px 1px 2px rgba(60, 64, 67, 0.3), 0px 1px 3px 1px rgba(60, 64, 67, 0.15);\n",
       "      fill: #174EA6;\n",
       "    }\n",
       "\n",
       "    [theme=dark] .colab-df-convert {\n",
       "      background-color: #3B4455;\n",
       "      fill: #D2E3FC;\n",
       "    }\n",
       "\n",
       "    [theme=dark] .colab-df-convert:hover {\n",
       "      background-color: #434B5C;\n",
       "      box-shadow: 0px 1px 3px 1px rgba(0, 0, 0, 0.15);\n",
       "      filter: drop-shadow(0px 1px 2px rgba(0, 0, 0, 0.3));\n",
       "      fill: #FFFFFF;\n",
       "    }\n",
       "  </style>\n",
       "\n",
       "      <script>\n",
       "        const buttonEl =\n",
       "          document.querySelector('#df-94fe1ebd-963f-47b6-9e7a-07183ff98dd8 button.colab-df-convert');\n",
       "        buttonEl.style.display =\n",
       "          google.colab.kernel.accessAllowed ? 'block' : 'none';\n",
       "\n",
       "        async function convertToInteractive(key) {\n",
       "          const element = document.querySelector('#df-94fe1ebd-963f-47b6-9e7a-07183ff98dd8');\n",
       "          const dataTable =\n",
       "            await google.colab.kernel.invokeFunction('convertToInteractive',\n",
       "                                                     [key], {});\n",
       "          if (!dataTable) return;\n",
       "\n",
       "          const docLinkHtml = 'Like what you see? Visit the ' +\n",
       "            '<a target=\"_blank\" href=https://colab.research.google.com/notebooks/data_table.ipynb>data table notebook</a>'\n",
       "            + ' to learn more about interactive tables.';\n",
       "          element.innerHTML = '';\n",
       "          dataTable['output_type'] = 'display_data';\n",
       "          await google.colab.output.renderOutput(dataTable, element);\n",
       "          const docLink = document.createElement('div');\n",
       "          docLink.innerHTML = docLinkHtml;\n",
       "          element.appendChild(docLink);\n",
       "        }\n",
       "      </script>\n",
       "    </div>\n",
       "  </div>\n",
       "  "
      ],
      "text/plain": [
       "        ID  innings  overs  ballnumber       batter          bowler  \\\n",
       "0  1312200        1      0           1  YBK Jaiswal  Mohammed Shami   \n",
       "1  1312200        1      0           2  YBK Jaiswal  Mohammed Shami   \n",
       "2  1312200        1      0           3   JC Buttler  Mohammed Shami   \n",
       "3  1312200        1      0           4  YBK Jaiswal  Mohammed Shami   \n",
       "4  1312200        1      0           5  YBK Jaiswal  Mohammed Shami   \n",
       "\n",
       "   non-striker extra_type  batsman_run  extras_run  total_run  non_boundary  \\\n",
       "0   JC Buttler        NaN            0           0          0             0   \n",
       "1   JC Buttler    legbyes            0           1          1             0   \n",
       "2  YBK Jaiswal        NaN            1           0          1             0   \n",
       "3   JC Buttler        NaN            0           0          0             0   \n",
       "4   JC Buttler        NaN            0           0          0             0   \n",
       "\n",
       "   isWicketDelivery player_out kind fielders_involved       BattingTeam  \n",
       "0                 0        NaN  NaN               NaN  Rajasthan Royals  \n",
       "1                 0        NaN  NaN               NaN  Rajasthan Royals  \n",
       "2                 0        NaN  NaN               NaN  Rajasthan Royals  \n",
       "3                 0        NaN  NaN               NaN  Rajasthan Royals  \n",
       "4                 0        NaN  NaN               NaN  Rajasthan Royals  "
      ]
     },
     "execution_count": 26,
     "metadata": {},
     "output_type": "execute_result"
    }
   ],
   "source": [
    "match_1.head()"
   ]
  },
  {
   "cell_type": "code",
   "execution_count": 27,
   "id": "ef22d1c3",
   "metadata": {
    "colab": {
     "base_uri": "https://localhost:8080/"
    },
    "execution": {
     "iopub.execute_input": "2022-06-28T18:19:12.893479Z",
     "iopub.status.busy": "2022-06-28T18:19:12.893087Z",
     "iopub.status.idle": "2022-06-28T18:19:12.899283Z",
     "shell.execute_reply": "2022-06-28T18:19:12.898238Z"
    },
    "id": "ef22d1c3",
    "outputId": "fe561d63-8f19-4d59-a6e7-54780bc32eef",
    "papermill": {
     "duration": 0.020935,
     "end_time": "2022-06-28T18:19:12.901654",
     "exception": false,
     "start_time": "2022-06-28T18:19:12.880719",
     "status": "completed"
    },
    "tags": []
   },
   "outputs": [
    {
     "data": {
      "text/plain": [
       "(233, 17)"
      ]
     },
     "execution_count": 27,
     "metadata": {},
     "output_type": "execute_result"
    }
   ],
   "source": [
    "match_1.shape"
   ]
  },
  {
   "cell_type": "code",
   "execution_count": 28,
   "id": "5a73ff6c",
   "metadata": {
    "execution": {
     "iopub.execute_input": "2022-06-28T18:19:12.925511Z",
     "iopub.status.busy": "2022-06-28T18:19:12.925104Z",
     "iopub.status.idle": "2022-06-28T18:19:12.930818Z",
     "shell.execute_reply": "2022-06-28T18:19:12.929645Z"
    },
    "id": "5a73ff6c",
    "papermill": {
     "duration": 0.02041,
     "end_time": "2022-06-28T18:19:12.933045",
     "exception": false,
     "start_time": "2022-06-28T18:19:12.912635",
     "status": "completed"
    },
    "tags": []
   },
   "outputs": [],
   "source": [
    "RR=match_1[match_1['innings']==1]"
   ]
  },
  {
   "cell_type": "code",
   "execution_count": 29,
   "id": "82016722",
   "metadata": {
    "colab": {
     "base_uri": "https://localhost:8080/"
    },
    "execution": {
     "iopub.execute_input": "2022-06-28T18:19:12.957016Z",
     "iopub.status.busy": "2022-06-28T18:19:12.956002Z",
     "iopub.status.idle": "2022-06-28T18:19:12.964063Z",
     "shell.execute_reply": "2022-06-28T18:19:12.963274Z"
    },
    "id": "82016722",
    "outputId": "3d1b2fa1-e1c3-4326-b1f2-e01105704c64",
    "papermill": {
     "duration": 0.022212,
     "end_time": "2022-06-28T18:19:12.966133",
     "exception": false,
     "start_time": "2022-06-28T18:19:12.943921",
     "status": "completed"
    },
    "tags": []
   },
   "outputs": [
    {
     "data": {
      "text/plain": [
       "0    52\n",
       "1    47\n",
       "4    11\n",
       "2     5\n",
       "6     4\n",
       "3     1\n",
       "Name: batsman_run, dtype: int64"
      ]
     },
     "execution_count": 29,
     "metadata": {},
     "output_type": "execute_result"
    }
   ],
   "source": [
    "RR['batsman_run'].value_counts()"
   ]
  },
  {
   "cell_type": "code",
   "execution_count": 30,
   "id": "0af23ef4",
   "metadata": {
    "colab": {
     "base_uri": "https://localhost:8080/"
    },
    "execution": {
     "iopub.execute_input": "2022-06-28T18:19:12.989982Z",
     "iopub.status.busy": "2022-06-28T18:19:12.989234Z",
     "iopub.status.idle": "2022-06-28T18:19:12.997216Z",
     "shell.execute_reply": "2022-06-28T18:19:12.996447Z"
    },
    "id": "0af23ef4",
    "outputId": "80d264a2-db8e-47fc-bdaf-8d0739c7d286",
    "papermill": {
     "duration": 0.022214,
     "end_time": "2022-06-28T18:19:12.999172",
     "exception": false,
     "start_time": "2022-06-28T18:19:12.976958",
     "status": "completed"
    },
    "tags": []
   },
   "outputs": [
    {
     "data": {
      "text/plain": [
       "caught               6\n",
       "caught and bowled    1\n",
       "run out              1\n",
       "bowled               1\n",
       "Name: kind, dtype: int64"
      ]
     },
     "execution_count": 30,
     "metadata": {},
     "output_type": "execute_result"
    }
   ],
   "source": [
    "RR['kind'].value_counts()"
   ]
  },
  {
   "cell_type": "code",
   "execution_count": 31,
   "id": "9fac18f0",
   "metadata": {
    "execution": {
     "iopub.execute_input": "2022-06-28T18:19:13.023449Z",
     "iopub.status.busy": "2022-06-28T18:19:13.022309Z",
     "iopub.status.idle": "2022-06-28T18:19:13.028350Z",
     "shell.execute_reply": "2022-06-28T18:19:13.027615Z"
    },
    "id": "9fac18f0",
    "papermill": {
     "duration": 0.020391,
     "end_time": "2022-06-28T18:19:13.030487",
     "exception": false,
     "start_time": "2022-06-28T18:19:13.010096",
     "status": "completed"
    },
    "tags": []
   },
   "outputs": [],
   "source": [
    "GT=match_1[match_1['innings']==2]"
   ]
  },
  {
   "cell_type": "code",
   "execution_count": 32,
   "id": "4e7bff22",
   "metadata": {
    "colab": {
     "base_uri": "https://localhost:8080/"
    },
    "execution": {
     "iopub.execute_input": "2022-06-28T18:19:13.055060Z",
     "iopub.status.busy": "2022-06-28T18:19:13.054037Z",
     "iopub.status.idle": "2022-06-28T18:19:13.061946Z",
     "shell.execute_reply": "2022-06-28T18:19:13.061079Z"
    },
    "id": "4e7bff22",
    "outputId": "abb7e8ce-38a5-4b18-baf9-38413845bf43",
    "papermill": {
     "duration": 0.022377,
     "end_time": "2022-06-28T18:19:13.063830",
     "exception": false,
     "start_time": "2022-06-28T18:19:13.041453",
     "status": "completed"
    },
    "tags": []
   },
   "outputs": [
    {
     "data": {
      "text/plain": [
       "0    51\n",
       "1    36\n",
       "2    12\n",
       "4    10\n",
       "6     4\n",
       "Name: batsman_run, dtype: int64"
      ]
     },
     "execution_count": 32,
     "metadata": {},
     "output_type": "execute_result"
    }
   ],
   "source": [
    "GT['batsman_run'].value_counts()"
   ]
  },
  {
   "cell_type": "code",
   "execution_count": 33,
   "id": "468b022b",
   "metadata": {
    "colab": {
     "base_uri": "https://localhost:8080/"
    },
    "execution": {
     "iopub.execute_input": "2022-06-28T18:19:13.087761Z",
     "iopub.status.busy": "2022-06-28T18:19:13.087183Z",
     "iopub.status.idle": "2022-06-28T18:19:13.095926Z",
     "shell.execute_reply": "2022-06-28T18:19:13.094842Z"
    },
    "id": "468b022b",
    "outputId": "2d62c9cf-2501-4914-c8ee-1231cabad9ec",
    "papermill": {
     "duration": 0.023366,
     "end_time": "2022-06-28T18:19:13.098107",
     "exception": false,
     "start_time": "2022-06-28T18:19:13.074741",
     "status": "completed"
    },
    "tags": []
   },
   "outputs": [
    {
     "data": {
      "text/plain": [
       "caught    2\n",
       "bowled    1\n",
       "Name: kind, dtype: int64"
      ]
     },
     "execution_count": 33,
     "metadata": {},
     "output_type": "execute_result"
    }
   ],
   "source": [
    "GT['kind'].value_counts()"
   ]
  }
 ],
 "metadata": {
  "colab": {
   "collapsed_sections": [],
   "name": "objective_1_IPL_Analysis_2022.ipynb",
   "provenance": []
  },
  "kernelspec": {
   "display_name": "Python 3 (ipykernel)",
   "language": "python",
   "name": "python3"
  },
  "language_info": {
   "codemirror_mode": {
    "name": "ipython",
    "version": 3
   },
   "file_extension": ".py",
   "mimetype": "text/x-python",
   "name": "python",
   "nbconvert_exporter": "python",
   "pygments_lexer": "ipython3",
   "version": "3.9.12"
  },
  "papermill": {
   "default_parameters": {},
   "duration": 13.117276,
   "end_time": "2022-06-28T18:19:13.855934",
   "environment_variables": {},
   "exception": null,
   "input_path": "__notebook__.ipynb",
   "output_path": "__notebook__.ipynb",
   "parameters": {},
   "start_time": "2022-06-28T18:19:00.738658",
   "version": "2.3.4"
  }
 },
 "nbformat": 4,
 "nbformat_minor": 5
}
